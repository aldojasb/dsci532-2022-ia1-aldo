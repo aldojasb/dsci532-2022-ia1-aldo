{
 "cells": [
  {
   "cell_type": "code",
   "execution_count": 4,
   "id": "5407c2f5-bbe4-4d57-b6c7-20caf74fb1e0",
   "metadata": {},
   "outputs": [
    {
     "name": "stdout",
     "output_type": "stream",
     "text": [
      "Dash is running on http://127.0.0.1:8050/\n",
      "\n",
      "Dash is running on http://127.0.0.1:8050/\n",
      "\n",
      "Dash is running on http://127.0.0.1:8050/\n",
      "\n",
      "Dash is running on http://127.0.0.1:8050/\n",
      "\n",
      " * Serving Flask app '__main__' (lazy loading)\n",
      " * Environment: production\n",
      "\u001b[31m   WARNING: This is a development server. Do not use it in a production deployment.\u001b[0m\n",
      "\u001b[2m   Use a production WSGI server instead.\u001b[0m\n",
      " * Debug mode: off\n"
     ]
    }
   ],
   "source": [
    "import altair as alt\n",
    "from dash import Dash, dcc, html, Input, Output\n",
    "from vega_datasets import data\n",
    "\n",
    "    \n",
    "cars = data.cars()\n",
    "\n",
    "def plot_altair(xmax):\n",
    "    chart = alt.Chart(cars[cars['Horsepower'] < xmax]).mark_point().encode(\n",
    "        x='Horsepower',\n",
    "        y='Weight_in_lbs')\n",
    "    return chart.to_html()\n",
    "\n",
    "app = Dash(__name__, external_stylesheets=['https://codepen.io/chriddyp/pen/bWLwgP.css'])\n",
    "\n",
    "app.layout = html.Div([\n",
    "        html.Iframe(\n",
    "            id='scatter',\n",
    "            srcDoc=plot_altair(xmax=0),\n",
    "            style={'border-width': '0', 'width': '100%', 'height': '400px'}),\n",
    "        dcc.Slider(id='xslider', min=0, max=240)])\n",
    "        \n",
    "@app.callback(\n",
    "    Output('scatter', 'srcDoc'),\n",
    "    Input('xslider', 'value'))\n",
    "def update_output(xmax):\n",
    "    return plot_altair(xmax)\n",
    "\n",
    "if __name__ == '__main__':\n",
    "    app.run_server(debug=False)"
   ]
  },
  {
   "cell_type": "code",
   "execution_count": 6,
   "id": "b39f8de3-da2d-4d0d-a125-958bd40be40c",
   "metadata": {},
   "outputs": [
    {
     "name": "stdout",
     "output_type": "stream",
     "text": [
      "Index(['Name', 'Miles_per_Gallon', 'Cylinders', 'Displacement', 'Horsepower',\n",
      "       'Weight_in_lbs', 'Acceleration', 'Year', 'Origin'],\n",
      "      dtype='object')\n"
     ]
    },
    {
     "data": {
      "text/html": [
       "<div>\n",
       "<style scoped>\n",
       "    .dataframe tbody tr th:only-of-type {\n",
       "        vertical-align: middle;\n",
       "    }\n",
       "\n",
       "    .dataframe tbody tr th {\n",
       "        vertical-align: top;\n",
       "    }\n",
       "\n",
       "    .dataframe thead th {\n",
       "        text-align: right;\n",
       "    }\n",
       "</style>\n",
       "<table border=\"1\" class=\"dataframe\">\n",
       "  <thead>\n",
       "    <tr style=\"text-align: right;\">\n",
       "      <th></th>\n",
       "      <th>Name</th>\n",
       "      <th>Miles_per_Gallon</th>\n",
       "      <th>Cylinders</th>\n",
       "      <th>Displacement</th>\n",
       "      <th>Horsepower</th>\n",
       "      <th>Weight_in_lbs</th>\n",
       "      <th>Acceleration</th>\n",
       "      <th>Year</th>\n",
       "      <th>Origin</th>\n",
       "    </tr>\n",
       "  </thead>\n",
       "  <tbody>\n",
       "    <tr>\n",
       "      <th>0</th>\n",
       "      <td>chevrolet chevelle malibu</td>\n",
       "      <td>18.0</td>\n",
       "      <td>8</td>\n",
       "      <td>307.0</td>\n",
       "      <td>130.0</td>\n",
       "      <td>3504</td>\n",
       "      <td>12.0</td>\n",
       "      <td>1970-01-01</td>\n",
       "      <td>USA</td>\n",
       "    </tr>\n",
       "    <tr>\n",
       "      <th>1</th>\n",
       "      <td>buick skylark 320</td>\n",
       "      <td>15.0</td>\n",
       "      <td>8</td>\n",
       "      <td>350.0</td>\n",
       "      <td>165.0</td>\n",
       "      <td>3693</td>\n",
       "      <td>11.5</td>\n",
       "      <td>1970-01-01</td>\n",
       "      <td>USA</td>\n",
       "    </tr>\n",
       "    <tr>\n",
       "      <th>2</th>\n",
       "      <td>plymouth satellite</td>\n",
       "      <td>18.0</td>\n",
       "      <td>8</td>\n",
       "      <td>318.0</td>\n",
       "      <td>150.0</td>\n",
       "      <td>3436</td>\n",
       "      <td>11.0</td>\n",
       "      <td>1970-01-01</td>\n",
       "      <td>USA</td>\n",
       "    </tr>\n",
       "    <tr>\n",
       "      <th>3</th>\n",
       "      <td>amc rebel sst</td>\n",
       "      <td>16.0</td>\n",
       "      <td>8</td>\n",
       "      <td>304.0</td>\n",
       "      <td>150.0</td>\n",
       "      <td>3433</td>\n",
       "      <td>12.0</td>\n",
       "      <td>1970-01-01</td>\n",
       "      <td>USA</td>\n",
       "    </tr>\n",
       "    <tr>\n",
       "      <th>4</th>\n",
       "      <td>ford torino</td>\n",
       "      <td>17.0</td>\n",
       "      <td>8</td>\n",
       "      <td>302.0</td>\n",
       "      <td>140.0</td>\n",
       "      <td>3449</td>\n",
       "      <td>10.5</td>\n",
       "      <td>1970-01-01</td>\n",
       "      <td>USA</td>\n",
       "    </tr>\n",
       "    <tr>\n",
       "      <th>...</th>\n",
       "      <td>...</td>\n",
       "      <td>...</td>\n",
       "      <td>...</td>\n",
       "      <td>...</td>\n",
       "      <td>...</td>\n",
       "      <td>...</td>\n",
       "      <td>...</td>\n",
       "      <td>...</td>\n",
       "      <td>...</td>\n",
       "    </tr>\n",
       "    <tr>\n",
       "      <th>401</th>\n",
       "      <td>ford mustang gl</td>\n",
       "      <td>27.0</td>\n",
       "      <td>4</td>\n",
       "      <td>140.0</td>\n",
       "      <td>86.0</td>\n",
       "      <td>2790</td>\n",
       "      <td>15.6</td>\n",
       "      <td>1982-01-01</td>\n",
       "      <td>USA</td>\n",
       "    </tr>\n",
       "    <tr>\n",
       "      <th>402</th>\n",
       "      <td>vw pickup</td>\n",
       "      <td>44.0</td>\n",
       "      <td>4</td>\n",
       "      <td>97.0</td>\n",
       "      <td>52.0</td>\n",
       "      <td>2130</td>\n",
       "      <td>24.6</td>\n",
       "      <td>1982-01-01</td>\n",
       "      <td>Europe</td>\n",
       "    </tr>\n",
       "    <tr>\n",
       "      <th>403</th>\n",
       "      <td>dodge rampage</td>\n",
       "      <td>32.0</td>\n",
       "      <td>4</td>\n",
       "      <td>135.0</td>\n",
       "      <td>84.0</td>\n",
       "      <td>2295</td>\n",
       "      <td>11.6</td>\n",
       "      <td>1982-01-01</td>\n",
       "      <td>USA</td>\n",
       "    </tr>\n",
       "    <tr>\n",
       "      <th>404</th>\n",
       "      <td>ford ranger</td>\n",
       "      <td>28.0</td>\n",
       "      <td>4</td>\n",
       "      <td>120.0</td>\n",
       "      <td>79.0</td>\n",
       "      <td>2625</td>\n",
       "      <td>18.6</td>\n",
       "      <td>1982-01-01</td>\n",
       "      <td>USA</td>\n",
       "    </tr>\n",
       "    <tr>\n",
       "      <th>405</th>\n",
       "      <td>chevy s-10</td>\n",
       "      <td>31.0</td>\n",
       "      <td>4</td>\n",
       "      <td>119.0</td>\n",
       "      <td>82.0</td>\n",
       "      <td>2720</td>\n",
       "      <td>19.4</td>\n",
       "      <td>1982-01-01</td>\n",
       "      <td>USA</td>\n",
       "    </tr>\n",
       "  </tbody>\n",
       "</table>\n",
       "<p>406 rows × 9 columns</p>\n",
       "</div>"
      ],
      "text/plain": [
       "                          Name  Miles_per_Gallon  Cylinders  Displacement  \\\n",
       "0    chevrolet chevelle malibu              18.0          8         307.0   \n",
       "1            buick skylark 320              15.0          8         350.0   \n",
       "2           plymouth satellite              18.0          8         318.0   \n",
       "3                amc rebel sst              16.0          8         304.0   \n",
       "4                  ford torino              17.0          8         302.0   \n",
       "..                         ...               ...        ...           ...   \n",
       "401            ford mustang gl              27.0          4         140.0   \n",
       "402                  vw pickup              44.0          4          97.0   \n",
       "403              dodge rampage              32.0          4         135.0   \n",
       "404                ford ranger              28.0          4         120.0   \n",
       "405                 chevy s-10              31.0          4         119.0   \n",
       "\n",
       "     Horsepower  Weight_in_lbs  Acceleration       Year  Origin  \n",
       "0         130.0           3504          12.0 1970-01-01     USA  \n",
       "1         165.0           3693          11.5 1970-01-01     USA  \n",
       "2         150.0           3436          11.0 1970-01-01     USA  \n",
       "3         150.0           3433          12.0 1970-01-01     USA  \n",
       "4         140.0           3449          10.5 1970-01-01     USA  \n",
       "..          ...            ...           ...        ...     ...  \n",
       "401        86.0           2790          15.6 1982-01-01     USA  \n",
       "402        52.0           2130          24.6 1982-01-01  Europe  \n",
       "403        84.0           2295          11.6 1982-01-01     USA  \n",
       "404        79.0           2625          18.6 1982-01-01     USA  \n",
       "405        82.0           2720          19.4 1982-01-01     USA  \n",
       "\n",
       "[406 rows x 9 columns]"
      ]
     },
     "execution_count": 6,
     "metadata": {},
     "output_type": "execute_result"
    }
   ],
   "source": [
    "import altair as alt\n",
    "from dash import Dash, dcc, html, Input, Output\n",
    "from vega_datasets import data\n",
    "\n",
    "    \n",
    "cars = data.cars()\n",
    "print(cars.columns)\n",
    "cars\n"
   ]
  },
  {
   "cell_type": "code",
   "execution_count": 2,
   "id": "e350f9c0-220f-4b14-98b3-07905bdea2eb",
   "metadata": {},
   "outputs": [
    {
     "data": {
      "application/vnd.vegalite.v4+json": {
       "$schema": "https://vega.github.io/schema/vega-lite/v4.8.1.json",
       "config": {
        "view": {
         "continuousHeight": 300,
         "continuousWidth": 400
        }
       },
       "data": {
        "name": "data-1ef2b881ae8ddbda985ea719aecc9deb"
       },
       "datasets": {
        "data-1ef2b881ae8ddbda985ea719aecc9deb": [
         {
          "body_mass_g": 3750,
          "culmen_depth_mm": 18.7,
          "culmen_length_mm": 39.1,
          "flipper_length_mm": 181,
          "island": "Torgersen",
          "sex": "MALE",
          "species": "Adelie"
         },
         {
          "body_mass_g": 3800,
          "culmen_depth_mm": 17.4,
          "culmen_length_mm": 39.5,
          "flipper_length_mm": 186,
          "island": "Torgersen",
          "sex": "FEMALE",
          "species": "Adelie"
         },
         {
          "body_mass_g": 3250,
          "culmen_depth_mm": 18,
          "culmen_length_mm": 40.3,
          "flipper_length_mm": 195,
          "island": "Torgersen",
          "sex": "FEMALE",
          "species": "Adelie"
         },
         {
          "body_mass_g": 3450,
          "culmen_depth_mm": 19.3,
          "culmen_length_mm": 36.7,
          "flipper_length_mm": 193,
          "island": "Torgersen",
          "sex": "FEMALE",
          "species": "Adelie"
         },
         {
          "body_mass_g": 3650,
          "culmen_depth_mm": 20.6,
          "culmen_length_mm": 39.3,
          "flipper_length_mm": 190,
          "island": "Torgersen",
          "sex": "MALE",
          "species": "Adelie"
         },
         {
          "body_mass_g": 3625,
          "culmen_depth_mm": 17.8,
          "culmen_length_mm": 38.9,
          "flipper_length_mm": 181,
          "island": "Torgersen",
          "sex": "FEMALE",
          "species": "Adelie"
         },
         {
          "body_mass_g": 4675,
          "culmen_depth_mm": 19.6,
          "culmen_length_mm": 39.2,
          "flipper_length_mm": 195,
          "island": "Torgersen",
          "sex": "MALE",
          "species": "Adelie"
         },
         {
          "body_mass_g": 3475,
          "culmen_depth_mm": 18.1,
          "culmen_length_mm": 34.1,
          "flipper_length_mm": 193,
          "island": "Torgersen",
          "sex": null,
          "species": "Adelie"
         },
         {
          "body_mass_g": 4250,
          "culmen_depth_mm": 20.2,
          "culmen_length_mm": 42,
          "flipper_length_mm": 190,
          "island": "Torgersen",
          "sex": null,
          "species": "Adelie"
         },
         {
          "body_mass_g": 3300,
          "culmen_depth_mm": 17.1,
          "culmen_length_mm": 37.8,
          "flipper_length_mm": 186,
          "island": "Torgersen",
          "sex": null,
          "species": "Adelie"
         },
         {
          "body_mass_g": 3700,
          "culmen_depth_mm": 17.3,
          "culmen_length_mm": 37.8,
          "flipper_length_mm": 180,
          "island": "Torgersen",
          "sex": null,
          "species": "Adelie"
         },
         {
          "body_mass_g": 3200,
          "culmen_depth_mm": 17.6,
          "culmen_length_mm": 41.1,
          "flipper_length_mm": 182,
          "island": "Torgersen",
          "sex": "FEMALE",
          "species": "Adelie"
         },
         {
          "body_mass_g": 3800,
          "culmen_depth_mm": 21.2,
          "culmen_length_mm": 38.6,
          "flipper_length_mm": 191,
          "island": "Torgersen",
          "sex": "MALE",
          "species": "Adelie"
         },
         {
          "body_mass_g": 4400,
          "culmen_depth_mm": 21.1,
          "culmen_length_mm": 34.6,
          "flipper_length_mm": 198,
          "island": "Torgersen",
          "sex": "MALE",
          "species": "Adelie"
         },
         {
          "body_mass_g": 3700,
          "culmen_depth_mm": 17.8,
          "culmen_length_mm": 36.6,
          "flipper_length_mm": 185,
          "island": "Torgersen",
          "sex": "FEMALE",
          "species": "Adelie"
         },
         {
          "body_mass_g": 3450,
          "culmen_depth_mm": 19,
          "culmen_length_mm": 38.7,
          "flipper_length_mm": 195,
          "island": "Torgersen",
          "sex": "FEMALE",
          "species": "Adelie"
         },
         {
          "body_mass_g": 4500,
          "culmen_depth_mm": 20.7,
          "culmen_length_mm": 42.5,
          "flipper_length_mm": 197,
          "island": "Torgersen",
          "sex": "MALE",
          "species": "Adelie"
         },
         {
          "body_mass_g": 3325,
          "culmen_depth_mm": 18.4,
          "culmen_length_mm": 34.4,
          "flipper_length_mm": 184,
          "island": "Torgersen",
          "sex": "FEMALE",
          "species": "Adelie"
         },
         {
          "body_mass_g": 4200,
          "culmen_depth_mm": 21.5,
          "culmen_length_mm": 46,
          "flipper_length_mm": 194,
          "island": "Torgersen",
          "sex": "MALE",
          "species": "Adelie"
         },
         {
          "body_mass_g": 3400,
          "culmen_depth_mm": 18.3,
          "culmen_length_mm": 37.8,
          "flipper_length_mm": 174,
          "island": "Biscoe",
          "sex": "FEMALE",
          "species": "Adelie"
         },
         {
          "body_mass_g": 3600,
          "culmen_depth_mm": 18.7,
          "culmen_length_mm": 37.7,
          "flipper_length_mm": 180,
          "island": "Biscoe",
          "sex": "MALE",
          "species": "Adelie"
         },
         {
          "body_mass_g": 3800,
          "culmen_depth_mm": 19.2,
          "culmen_length_mm": 35.9,
          "flipper_length_mm": 189,
          "island": "Biscoe",
          "sex": "FEMALE",
          "species": "Adelie"
         },
         {
          "body_mass_g": 3950,
          "culmen_depth_mm": 18.1,
          "culmen_length_mm": 38.2,
          "flipper_length_mm": 185,
          "island": "Biscoe",
          "sex": "MALE",
          "species": "Adelie"
         },
         {
          "body_mass_g": 3800,
          "culmen_depth_mm": 17.2,
          "culmen_length_mm": 38.8,
          "flipper_length_mm": 180,
          "island": "Biscoe",
          "sex": "MALE",
          "species": "Adelie"
         },
         {
          "body_mass_g": 3800,
          "culmen_depth_mm": 18.9,
          "culmen_length_mm": 35.3,
          "flipper_length_mm": 187,
          "island": "Biscoe",
          "sex": "FEMALE",
          "species": "Adelie"
         },
         {
          "body_mass_g": 3550,
          "culmen_depth_mm": 18.6,
          "culmen_length_mm": 40.6,
          "flipper_length_mm": 183,
          "island": "Biscoe",
          "sex": "MALE",
          "species": "Adelie"
         },
         {
          "body_mass_g": 3200,
          "culmen_depth_mm": 17.9,
          "culmen_length_mm": 40.5,
          "flipper_length_mm": 187,
          "island": "Biscoe",
          "sex": "FEMALE",
          "species": "Adelie"
         },
         {
          "body_mass_g": 3150,
          "culmen_depth_mm": 18.6,
          "culmen_length_mm": 37.9,
          "flipper_length_mm": 172,
          "island": "Biscoe",
          "sex": "FEMALE",
          "species": "Adelie"
         },
         {
          "body_mass_g": 3950,
          "culmen_depth_mm": 18.9,
          "culmen_length_mm": 40.5,
          "flipper_length_mm": 180,
          "island": "Biscoe",
          "sex": "MALE",
          "species": "Adelie"
         },
         {
          "body_mass_g": 3250,
          "culmen_depth_mm": 16.7,
          "culmen_length_mm": 39.5,
          "flipper_length_mm": 178,
          "island": "Dream",
          "sex": "FEMALE",
          "species": "Adelie"
         },
         {
          "body_mass_g": 3900,
          "culmen_depth_mm": 18.1,
          "culmen_length_mm": 37.2,
          "flipper_length_mm": 178,
          "island": "Dream",
          "sex": "MALE",
          "species": "Adelie"
         },
         {
          "body_mass_g": 3300,
          "culmen_depth_mm": 17.8,
          "culmen_length_mm": 39.5,
          "flipper_length_mm": 188,
          "island": "Dream",
          "sex": "FEMALE",
          "species": "Adelie"
         },
         {
          "body_mass_g": 3900,
          "culmen_depth_mm": 18.9,
          "culmen_length_mm": 40.9,
          "flipper_length_mm": 184,
          "island": "Dream",
          "sex": "MALE",
          "species": "Adelie"
         },
         {
          "body_mass_g": 3325,
          "culmen_depth_mm": 17,
          "culmen_length_mm": 36.4,
          "flipper_length_mm": 195,
          "island": "Dream",
          "sex": "FEMALE",
          "species": "Adelie"
         },
         {
          "body_mass_g": 4150,
          "culmen_depth_mm": 21.1,
          "culmen_length_mm": 39.2,
          "flipper_length_mm": 196,
          "island": "Dream",
          "sex": "MALE",
          "species": "Adelie"
         },
         {
          "body_mass_g": 3950,
          "culmen_depth_mm": 20,
          "culmen_length_mm": 38.8,
          "flipper_length_mm": 190,
          "island": "Dream",
          "sex": "MALE",
          "species": "Adelie"
         },
         {
          "body_mass_g": 3550,
          "culmen_depth_mm": 18.5,
          "culmen_length_mm": 42.2,
          "flipper_length_mm": 180,
          "island": "Dream",
          "sex": "FEMALE",
          "species": "Adelie"
         },
         {
          "body_mass_g": 3300,
          "culmen_depth_mm": 19.3,
          "culmen_length_mm": 37.6,
          "flipper_length_mm": 181,
          "island": "Dream",
          "sex": "FEMALE",
          "species": "Adelie"
         },
         {
          "body_mass_g": 4650,
          "culmen_depth_mm": 19.1,
          "culmen_length_mm": 39.8,
          "flipper_length_mm": 184,
          "island": "Dream",
          "sex": "MALE",
          "species": "Adelie"
         },
         {
          "body_mass_g": 3150,
          "culmen_depth_mm": 18,
          "culmen_length_mm": 36.5,
          "flipper_length_mm": 182,
          "island": "Dream",
          "sex": "FEMALE",
          "species": "Adelie"
         },
         {
          "body_mass_g": 3900,
          "culmen_depth_mm": 18.4,
          "culmen_length_mm": 40.8,
          "flipper_length_mm": 195,
          "island": "Dream",
          "sex": "MALE",
          "species": "Adelie"
         },
         {
          "body_mass_g": 3100,
          "culmen_depth_mm": 18.5,
          "culmen_length_mm": 36,
          "flipper_length_mm": 186,
          "island": "Dream",
          "sex": "FEMALE",
          "species": "Adelie"
         },
         {
          "body_mass_g": 4400,
          "culmen_depth_mm": 19.7,
          "culmen_length_mm": 44.1,
          "flipper_length_mm": 196,
          "island": "Dream",
          "sex": "MALE",
          "species": "Adelie"
         },
         {
          "body_mass_g": 3000,
          "culmen_depth_mm": 16.9,
          "culmen_length_mm": 37,
          "flipper_length_mm": 185,
          "island": "Dream",
          "sex": "FEMALE",
          "species": "Adelie"
         },
         {
          "body_mass_g": 4600,
          "culmen_depth_mm": 18.8,
          "culmen_length_mm": 39.6,
          "flipper_length_mm": 190,
          "island": "Dream",
          "sex": "MALE",
          "species": "Adelie"
         },
         {
          "body_mass_g": 3425,
          "culmen_depth_mm": 19,
          "culmen_length_mm": 41.1,
          "flipper_length_mm": 182,
          "island": "Dream",
          "sex": "MALE",
          "species": "Adelie"
         },
         {
          "body_mass_g": 2975,
          "culmen_depth_mm": 18.9,
          "culmen_length_mm": 37.5,
          "flipper_length_mm": 179,
          "island": "Dream",
          "sex": null,
          "species": "Adelie"
         },
         {
          "body_mass_g": 3450,
          "culmen_depth_mm": 17.9,
          "culmen_length_mm": 36,
          "flipper_length_mm": 190,
          "island": "Dream",
          "sex": "FEMALE",
          "species": "Adelie"
         },
         {
          "body_mass_g": 4150,
          "culmen_depth_mm": 21.2,
          "culmen_length_mm": 42.3,
          "flipper_length_mm": 191,
          "island": "Dream",
          "sex": "MALE",
          "species": "Adelie"
         },
         {
          "body_mass_g": 3500,
          "culmen_depth_mm": 17.7,
          "culmen_length_mm": 39.6,
          "flipper_length_mm": 186,
          "island": "Biscoe",
          "sex": "FEMALE",
          "species": "Adelie"
         },
         {
          "body_mass_g": 4300,
          "culmen_depth_mm": 18.9,
          "culmen_length_mm": 40.1,
          "flipper_length_mm": 188,
          "island": "Biscoe",
          "sex": "MALE",
          "species": "Adelie"
         },
         {
          "body_mass_g": 3450,
          "culmen_depth_mm": 17.9,
          "culmen_length_mm": 35,
          "flipper_length_mm": 190,
          "island": "Biscoe",
          "sex": "FEMALE",
          "species": "Adelie"
         },
         {
          "body_mass_g": 4050,
          "culmen_depth_mm": 19.5,
          "culmen_length_mm": 42,
          "flipper_length_mm": 200,
          "island": "Biscoe",
          "sex": "MALE",
          "species": "Adelie"
         },
         {
          "body_mass_g": 2900,
          "culmen_depth_mm": 18.1,
          "culmen_length_mm": 34.5,
          "flipper_length_mm": 187,
          "island": "Biscoe",
          "sex": "FEMALE",
          "species": "Adelie"
         },
         {
          "body_mass_g": 3700,
          "culmen_depth_mm": 18.6,
          "culmen_length_mm": 41.4,
          "flipper_length_mm": 191,
          "island": "Biscoe",
          "sex": "MALE",
          "species": "Adelie"
         },
         {
          "body_mass_g": 3550,
          "culmen_depth_mm": 17.5,
          "culmen_length_mm": 39,
          "flipper_length_mm": 186,
          "island": "Biscoe",
          "sex": "FEMALE",
          "species": "Adelie"
         },
         {
          "body_mass_g": 3800,
          "culmen_depth_mm": 18.8,
          "culmen_length_mm": 40.6,
          "flipper_length_mm": 193,
          "island": "Biscoe",
          "sex": "MALE",
          "species": "Adelie"
         },
         {
          "body_mass_g": 2850,
          "culmen_depth_mm": 16.6,
          "culmen_length_mm": 36.5,
          "flipper_length_mm": 181,
          "island": "Biscoe",
          "sex": "FEMALE",
          "species": "Adelie"
         },
         {
          "body_mass_g": 3750,
          "culmen_depth_mm": 19.1,
          "culmen_length_mm": 37.6,
          "flipper_length_mm": 194,
          "island": "Biscoe",
          "sex": "MALE",
          "species": "Adelie"
         },
         {
          "body_mass_g": 3150,
          "culmen_depth_mm": 16.9,
          "culmen_length_mm": 35.7,
          "flipper_length_mm": 185,
          "island": "Biscoe",
          "sex": "FEMALE",
          "species": "Adelie"
         },
         {
          "body_mass_g": 4400,
          "culmen_depth_mm": 21.1,
          "culmen_length_mm": 41.3,
          "flipper_length_mm": 195,
          "island": "Biscoe",
          "sex": "MALE",
          "species": "Adelie"
         },
         {
          "body_mass_g": 3600,
          "culmen_depth_mm": 17,
          "culmen_length_mm": 37.6,
          "flipper_length_mm": 185,
          "island": "Biscoe",
          "sex": "FEMALE",
          "species": "Adelie"
         },
         {
          "body_mass_g": 4050,
          "culmen_depth_mm": 18.2,
          "culmen_length_mm": 41.1,
          "flipper_length_mm": 192,
          "island": "Biscoe",
          "sex": "MALE",
          "species": "Adelie"
         },
         {
          "body_mass_g": 2850,
          "culmen_depth_mm": 17.1,
          "culmen_length_mm": 36.4,
          "flipper_length_mm": 184,
          "island": "Biscoe",
          "sex": "FEMALE",
          "species": "Adelie"
         },
         {
          "body_mass_g": 3950,
          "culmen_depth_mm": 18,
          "culmen_length_mm": 41.6,
          "flipper_length_mm": 192,
          "island": "Biscoe",
          "sex": "MALE",
          "species": "Adelie"
         },
         {
          "body_mass_g": 3350,
          "culmen_depth_mm": 16.2,
          "culmen_length_mm": 35.5,
          "flipper_length_mm": 195,
          "island": "Biscoe",
          "sex": "FEMALE",
          "species": "Adelie"
         },
         {
          "body_mass_g": 4100,
          "culmen_depth_mm": 19.1,
          "culmen_length_mm": 41.1,
          "flipper_length_mm": 188,
          "island": "Biscoe",
          "sex": "MALE",
          "species": "Adelie"
         },
         {
          "body_mass_g": 3050,
          "culmen_depth_mm": 16.6,
          "culmen_length_mm": 35.9,
          "flipper_length_mm": 190,
          "island": "Torgersen",
          "sex": "FEMALE",
          "species": "Adelie"
         },
         {
          "body_mass_g": 4450,
          "culmen_depth_mm": 19.4,
          "culmen_length_mm": 41.8,
          "flipper_length_mm": 198,
          "island": "Torgersen",
          "sex": "MALE",
          "species": "Adelie"
         },
         {
          "body_mass_g": 3600,
          "culmen_depth_mm": 19,
          "culmen_length_mm": 33.5,
          "flipper_length_mm": 190,
          "island": "Torgersen",
          "sex": "FEMALE",
          "species": "Adelie"
         },
         {
          "body_mass_g": 3900,
          "culmen_depth_mm": 18.4,
          "culmen_length_mm": 39.7,
          "flipper_length_mm": 190,
          "island": "Torgersen",
          "sex": "MALE",
          "species": "Adelie"
         },
         {
          "body_mass_g": 3550,
          "culmen_depth_mm": 17.2,
          "culmen_length_mm": 39.6,
          "flipper_length_mm": 196,
          "island": "Torgersen",
          "sex": "FEMALE",
          "species": "Adelie"
         },
         {
          "body_mass_g": 4150,
          "culmen_depth_mm": 18.9,
          "culmen_length_mm": 45.8,
          "flipper_length_mm": 197,
          "island": "Torgersen",
          "sex": "MALE",
          "species": "Adelie"
         },
         {
          "body_mass_g": 3700,
          "culmen_depth_mm": 17.5,
          "culmen_length_mm": 35.5,
          "flipper_length_mm": 190,
          "island": "Torgersen",
          "sex": "FEMALE",
          "species": "Adelie"
         },
         {
          "body_mass_g": 4250,
          "culmen_depth_mm": 18.5,
          "culmen_length_mm": 42.8,
          "flipper_length_mm": 195,
          "island": "Torgersen",
          "sex": "MALE",
          "species": "Adelie"
         },
         {
          "body_mass_g": 3700,
          "culmen_depth_mm": 16.8,
          "culmen_length_mm": 40.9,
          "flipper_length_mm": 191,
          "island": "Torgersen",
          "sex": "FEMALE",
          "species": "Adelie"
         },
         {
          "body_mass_g": 3900,
          "culmen_depth_mm": 19.4,
          "culmen_length_mm": 37.2,
          "flipper_length_mm": 184,
          "island": "Torgersen",
          "sex": "MALE",
          "species": "Adelie"
         },
         {
          "body_mass_g": 3550,
          "culmen_depth_mm": 16.1,
          "culmen_length_mm": 36.2,
          "flipper_length_mm": 187,
          "island": "Torgersen",
          "sex": "FEMALE",
          "species": "Adelie"
         },
         {
          "body_mass_g": 4000,
          "culmen_depth_mm": 19.1,
          "culmen_length_mm": 42.1,
          "flipper_length_mm": 195,
          "island": "Torgersen",
          "sex": "MALE",
          "species": "Adelie"
         },
         {
          "body_mass_g": 3200,
          "culmen_depth_mm": 17.2,
          "culmen_length_mm": 34.6,
          "flipper_length_mm": 189,
          "island": "Torgersen",
          "sex": "FEMALE",
          "species": "Adelie"
         },
         {
          "body_mass_g": 4700,
          "culmen_depth_mm": 17.6,
          "culmen_length_mm": 42.9,
          "flipper_length_mm": 196,
          "island": "Torgersen",
          "sex": "MALE",
          "species": "Adelie"
         },
         {
          "body_mass_g": 3800,
          "culmen_depth_mm": 18.8,
          "culmen_length_mm": 36.7,
          "flipper_length_mm": 187,
          "island": "Torgersen",
          "sex": "FEMALE",
          "species": "Adelie"
         },
         {
          "body_mass_g": 4200,
          "culmen_depth_mm": 19.4,
          "culmen_length_mm": 35.1,
          "flipper_length_mm": 193,
          "island": "Torgersen",
          "sex": "MALE",
          "species": "Adelie"
         },
         {
          "body_mass_g": 3350,
          "culmen_depth_mm": 17.8,
          "culmen_length_mm": 37.3,
          "flipper_length_mm": 191,
          "island": "Dream",
          "sex": "FEMALE",
          "species": "Adelie"
         },
         {
          "body_mass_g": 3550,
          "culmen_depth_mm": 20.3,
          "culmen_length_mm": 41.3,
          "flipper_length_mm": 194,
          "island": "Dream",
          "sex": "MALE",
          "species": "Adelie"
         },
         {
          "body_mass_g": 3800,
          "culmen_depth_mm": 19.5,
          "culmen_length_mm": 36.3,
          "flipper_length_mm": 190,
          "island": "Dream",
          "sex": "MALE",
          "species": "Adelie"
         },
         {
          "body_mass_g": 3500,
          "culmen_depth_mm": 18.6,
          "culmen_length_mm": 36.9,
          "flipper_length_mm": 189,
          "island": "Dream",
          "sex": "FEMALE",
          "species": "Adelie"
         },
         {
          "body_mass_g": 3950,
          "culmen_depth_mm": 19.2,
          "culmen_length_mm": 38.3,
          "flipper_length_mm": 189,
          "island": "Dream",
          "sex": "MALE",
          "species": "Adelie"
         },
         {
          "body_mass_g": 3600,
          "culmen_depth_mm": 18.8,
          "culmen_length_mm": 38.9,
          "flipper_length_mm": 190,
          "island": "Dream",
          "sex": "FEMALE",
          "species": "Adelie"
         },
         {
          "body_mass_g": 3550,
          "culmen_depth_mm": 18,
          "culmen_length_mm": 35.7,
          "flipper_length_mm": 202,
          "island": "Dream",
          "sex": "FEMALE",
          "species": "Adelie"
         },
         {
          "body_mass_g": 4300,
          "culmen_depth_mm": 18.1,
          "culmen_length_mm": 41.1,
          "flipper_length_mm": 205,
          "island": "Dream",
          "sex": "MALE",
          "species": "Adelie"
         },
         {
          "body_mass_g": 3400,
          "culmen_depth_mm": 17.1,
          "culmen_length_mm": 34,
          "flipper_length_mm": 185,
          "island": "Dream",
          "sex": "FEMALE",
          "species": "Adelie"
         },
         {
          "body_mass_g": 4450,
          "culmen_depth_mm": 18.1,
          "culmen_length_mm": 39.6,
          "flipper_length_mm": 186,
          "island": "Dream",
          "sex": "MALE",
          "species": "Adelie"
         },
         {
          "body_mass_g": 3300,
          "culmen_depth_mm": 17.3,
          "culmen_length_mm": 36.2,
          "flipper_length_mm": 187,
          "island": "Dream",
          "sex": "FEMALE",
          "species": "Adelie"
         },
         {
          "body_mass_g": 4300,
          "culmen_depth_mm": 18.9,
          "culmen_length_mm": 40.8,
          "flipper_length_mm": 208,
          "island": "Dream",
          "sex": "MALE",
          "species": "Adelie"
         },
         {
          "body_mass_g": 3700,
          "culmen_depth_mm": 18.6,
          "culmen_length_mm": 38.1,
          "flipper_length_mm": 190,
          "island": "Dream",
          "sex": "FEMALE",
          "species": "Adelie"
         },
         {
          "body_mass_g": 4350,
          "culmen_depth_mm": 18.5,
          "culmen_length_mm": 40.3,
          "flipper_length_mm": 196,
          "island": "Dream",
          "sex": "MALE",
          "species": "Adelie"
         },
         {
          "body_mass_g": 2900,
          "culmen_depth_mm": 16.1,
          "culmen_length_mm": 33.1,
          "flipper_length_mm": 178,
          "island": "Dream",
          "sex": "FEMALE",
          "species": "Adelie"
         },
         {
          "body_mass_g": 4100,
          "culmen_depth_mm": 18.5,
          "culmen_length_mm": 43.2,
          "flipper_length_mm": 192,
          "island": "Dream",
          "sex": "MALE",
          "species": "Adelie"
         },
         {
          "body_mass_g": 3725,
          "culmen_depth_mm": 17.9,
          "culmen_length_mm": 35,
          "flipper_length_mm": 192,
          "island": "Biscoe",
          "sex": "FEMALE",
          "species": "Adelie"
         },
         {
          "body_mass_g": 4725,
          "culmen_depth_mm": 20,
          "culmen_length_mm": 41,
          "flipper_length_mm": 203,
          "island": "Biscoe",
          "sex": "MALE",
          "species": "Adelie"
         },
         {
          "body_mass_g": 3075,
          "culmen_depth_mm": 16,
          "culmen_length_mm": 37.7,
          "flipper_length_mm": 183,
          "island": "Biscoe",
          "sex": "FEMALE",
          "species": "Adelie"
         },
         {
          "body_mass_g": 4250,
          "culmen_depth_mm": 20,
          "culmen_length_mm": 37.8,
          "flipper_length_mm": 190,
          "island": "Biscoe",
          "sex": "MALE",
          "species": "Adelie"
         },
         {
          "body_mass_g": 2925,
          "culmen_depth_mm": 18.6,
          "culmen_length_mm": 37.9,
          "flipper_length_mm": 193,
          "island": "Biscoe",
          "sex": "FEMALE",
          "species": "Adelie"
         },
         {
          "body_mass_g": 3550,
          "culmen_depth_mm": 18.9,
          "culmen_length_mm": 39.7,
          "flipper_length_mm": 184,
          "island": "Biscoe",
          "sex": "MALE",
          "species": "Adelie"
         },
         {
          "body_mass_g": 3750,
          "culmen_depth_mm": 17.2,
          "culmen_length_mm": 38.6,
          "flipper_length_mm": 199,
          "island": "Biscoe",
          "sex": "FEMALE",
          "species": "Adelie"
         },
         {
          "body_mass_g": 3900,
          "culmen_depth_mm": 20,
          "culmen_length_mm": 38.2,
          "flipper_length_mm": 190,
          "island": "Biscoe",
          "sex": "MALE",
          "species": "Adelie"
         },
         {
          "body_mass_g": 3175,
          "culmen_depth_mm": 17,
          "culmen_length_mm": 38.1,
          "flipper_length_mm": 181,
          "island": "Biscoe",
          "sex": "FEMALE",
          "species": "Adelie"
         },
         {
          "body_mass_g": 4775,
          "culmen_depth_mm": 19,
          "culmen_length_mm": 43.2,
          "flipper_length_mm": 197,
          "island": "Biscoe",
          "sex": "MALE",
          "species": "Adelie"
         },
         {
          "body_mass_g": 3825,
          "culmen_depth_mm": 16.5,
          "culmen_length_mm": 38.1,
          "flipper_length_mm": 198,
          "island": "Biscoe",
          "sex": "FEMALE",
          "species": "Adelie"
         },
         {
          "body_mass_g": 4600,
          "culmen_depth_mm": 20.3,
          "culmen_length_mm": 45.6,
          "flipper_length_mm": 191,
          "island": "Biscoe",
          "sex": "MALE",
          "species": "Adelie"
         },
         {
          "body_mass_g": 3200,
          "culmen_depth_mm": 17.7,
          "culmen_length_mm": 39.7,
          "flipper_length_mm": 193,
          "island": "Biscoe",
          "sex": "FEMALE",
          "species": "Adelie"
         },
         {
          "body_mass_g": 4275,
          "culmen_depth_mm": 19.5,
          "culmen_length_mm": 42.2,
          "flipper_length_mm": 197,
          "island": "Biscoe",
          "sex": "MALE",
          "species": "Adelie"
         },
         {
          "body_mass_g": 3900,
          "culmen_depth_mm": 20.7,
          "culmen_length_mm": 39.6,
          "flipper_length_mm": 191,
          "island": "Biscoe",
          "sex": "FEMALE",
          "species": "Adelie"
         },
         {
          "body_mass_g": 4075,
          "culmen_depth_mm": 18.3,
          "culmen_length_mm": 42.7,
          "flipper_length_mm": 196,
          "island": "Biscoe",
          "sex": "MALE",
          "species": "Adelie"
         },
         {
          "body_mass_g": 2900,
          "culmen_depth_mm": 17,
          "culmen_length_mm": 38.6,
          "flipper_length_mm": 188,
          "island": "Torgersen",
          "sex": "FEMALE",
          "species": "Adelie"
         },
         {
          "body_mass_g": 3775,
          "culmen_depth_mm": 20.5,
          "culmen_length_mm": 37.3,
          "flipper_length_mm": 199,
          "island": "Torgersen",
          "sex": "MALE",
          "species": "Adelie"
         },
         {
          "body_mass_g": 3350,
          "culmen_depth_mm": 17,
          "culmen_length_mm": 35.7,
          "flipper_length_mm": 189,
          "island": "Torgersen",
          "sex": "FEMALE",
          "species": "Adelie"
         },
         {
          "body_mass_g": 3325,
          "culmen_depth_mm": 18.6,
          "culmen_length_mm": 41.1,
          "flipper_length_mm": 189,
          "island": "Torgersen",
          "sex": "MALE",
          "species": "Adelie"
         },
         {
          "body_mass_g": 3150,
          "culmen_depth_mm": 17.2,
          "culmen_length_mm": 36.2,
          "flipper_length_mm": 187,
          "island": "Torgersen",
          "sex": "FEMALE",
          "species": "Adelie"
         },
         {
          "body_mass_g": 3500,
          "culmen_depth_mm": 19.8,
          "culmen_length_mm": 37.7,
          "flipper_length_mm": 198,
          "island": "Torgersen",
          "sex": "MALE",
          "species": "Adelie"
         },
         {
          "body_mass_g": 3450,
          "culmen_depth_mm": 17,
          "culmen_length_mm": 40.2,
          "flipper_length_mm": 176,
          "island": "Torgersen",
          "sex": "FEMALE",
          "species": "Adelie"
         },
         {
          "body_mass_g": 3875,
          "culmen_depth_mm": 18.5,
          "culmen_length_mm": 41.4,
          "flipper_length_mm": 202,
          "island": "Torgersen",
          "sex": "MALE",
          "species": "Adelie"
         },
         {
          "body_mass_g": 3050,
          "culmen_depth_mm": 15.9,
          "culmen_length_mm": 35.2,
          "flipper_length_mm": 186,
          "island": "Torgersen",
          "sex": "FEMALE",
          "species": "Adelie"
         },
         {
          "body_mass_g": 4000,
          "culmen_depth_mm": 19,
          "culmen_length_mm": 40.6,
          "flipper_length_mm": 199,
          "island": "Torgersen",
          "sex": "MALE",
          "species": "Adelie"
         },
         {
          "body_mass_g": 3275,
          "culmen_depth_mm": 17.6,
          "culmen_length_mm": 38.8,
          "flipper_length_mm": 191,
          "island": "Torgersen",
          "sex": "FEMALE",
          "species": "Adelie"
         },
         {
          "body_mass_g": 4300,
          "culmen_depth_mm": 18.3,
          "culmen_length_mm": 41.5,
          "flipper_length_mm": 195,
          "island": "Torgersen",
          "sex": "MALE",
          "species": "Adelie"
         },
         {
          "body_mass_g": 3050,
          "culmen_depth_mm": 17.1,
          "culmen_length_mm": 39,
          "flipper_length_mm": 191,
          "island": "Torgersen",
          "sex": "FEMALE",
          "species": "Adelie"
         },
         {
          "body_mass_g": 4000,
          "culmen_depth_mm": 18,
          "culmen_length_mm": 44.1,
          "flipper_length_mm": 210,
          "island": "Torgersen",
          "sex": "MALE",
          "species": "Adelie"
         },
         {
          "body_mass_g": 3325,
          "culmen_depth_mm": 17.9,
          "culmen_length_mm": 38.5,
          "flipper_length_mm": 190,
          "island": "Torgersen",
          "sex": "FEMALE",
          "species": "Adelie"
         },
         {
          "body_mass_g": 3500,
          "culmen_depth_mm": 19.2,
          "culmen_length_mm": 43.1,
          "flipper_length_mm": 197,
          "island": "Torgersen",
          "sex": "MALE",
          "species": "Adelie"
         },
         {
          "body_mass_g": 3500,
          "culmen_depth_mm": 18.5,
          "culmen_length_mm": 36.8,
          "flipper_length_mm": 193,
          "island": "Dream",
          "sex": "FEMALE",
          "species": "Adelie"
         },
         {
          "body_mass_g": 4475,
          "culmen_depth_mm": 18.5,
          "culmen_length_mm": 37.5,
          "flipper_length_mm": 199,
          "island": "Dream",
          "sex": "MALE",
          "species": "Adelie"
         },
         {
          "body_mass_g": 3425,
          "culmen_depth_mm": 17.6,
          "culmen_length_mm": 38.1,
          "flipper_length_mm": 187,
          "island": "Dream",
          "sex": "FEMALE",
          "species": "Adelie"
         },
         {
          "body_mass_g": 3900,
          "culmen_depth_mm": 17.5,
          "culmen_length_mm": 41.1,
          "flipper_length_mm": 190,
          "island": "Dream",
          "sex": "MALE",
          "species": "Adelie"
         },
         {
          "body_mass_g": 3175,
          "culmen_depth_mm": 17.5,
          "culmen_length_mm": 35.6,
          "flipper_length_mm": 191,
          "island": "Dream",
          "sex": "FEMALE",
          "species": "Adelie"
         },
         {
          "body_mass_g": 3975,
          "culmen_depth_mm": 20.1,
          "culmen_length_mm": 40.2,
          "flipper_length_mm": 200,
          "island": "Dream",
          "sex": "MALE",
          "species": "Adelie"
         },
         {
          "body_mass_g": 3400,
          "culmen_depth_mm": 16.5,
          "culmen_length_mm": 37,
          "flipper_length_mm": 185,
          "island": "Dream",
          "sex": "FEMALE",
          "species": "Adelie"
         },
         {
          "body_mass_g": 4250,
          "culmen_depth_mm": 17.9,
          "culmen_length_mm": 39.7,
          "flipper_length_mm": 193,
          "island": "Dream",
          "sex": "MALE",
          "species": "Adelie"
         },
         {
          "body_mass_g": 3400,
          "culmen_depth_mm": 17.1,
          "culmen_length_mm": 40.2,
          "flipper_length_mm": 193,
          "island": "Dream",
          "sex": "FEMALE",
          "species": "Adelie"
         },
         {
          "body_mass_g": 3475,
          "culmen_depth_mm": 17.2,
          "culmen_length_mm": 40.6,
          "flipper_length_mm": 187,
          "island": "Dream",
          "sex": "MALE",
          "species": "Adelie"
         },
         {
          "body_mass_g": 3050,
          "culmen_depth_mm": 15.5,
          "culmen_length_mm": 32.1,
          "flipper_length_mm": 188,
          "island": "Dream",
          "sex": "FEMALE",
          "species": "Adelie"
         },
         {
          "body_mass_g": 3725,
          "culmen_depth_mm": 17,
          "culmen_length_mm": 40.7,
          "flipper_length_mm": 190,
          "island": "Dream",
          "sex": "MALE",
          "species": "Adelie"
         },
         {
          "body_mass_g": 3000,
          "culmen_depth_mm": 16.8,
          "culmen_length_mm": 37.3,
          "flipper_length_mm": 192,
          "island": "Dream",
          "sex": "FEMALE",
          "species": "Adelie"
         },
         {
          "body_mass_g": 3650,
          "culmen_depth_mm": 18.7,
          "culmen_length_mm": 39,
          "flipper_length_mm": 185,
          "island": "Dream",
          "sex": "MALE",
          "species": "Adelie"
         },
         {
          "body_mass_g": 4250,
          "culmen_depth_mm": 18.6,
          "culmen_length_mm": 39.2,
          "flipper_length_mm": 190,
          "island": "Dream",
          "sex": "MALE",
          "species": "Adelie"
         },
         {
          "body_mass_g": 3475,
          "culmen_depth_mm": 18.4,
          "culmen_length_mm": 36.6,
          "flipper_length_mm": 184,
          "island": "Dream",
          "sex": "FEMALE",
          "species": "Adelie"
         },
         {
          "body_mass_g": 3450,
          "culmen_depth_mm": 17.8,
          "culmen_length_mm": 36,
          "flipper_length_mm": 195,
          "island": "Dream",
          "sex": "FEMALE",
          "species": "Adelie"
         },
         {
          "body_mass_g": 3750,
          "culmen_depth_mm": 18.1,
          "culmen_length_mm": 37.8,
          "flipper_length_mm": 193,
          "island": "Dream",
          "sex": "MALE",
          "species": "Adelie"
         },
         {
          "body_mass_g": 3700,
          "culmen_depth_mm": 17.1,
          "culmen_length_mm": 36,
          "flipper_length_mm": 187,
          "island": "Dream",
          "sex": "FEMALE",
          "species": "Adelie"
         },
         {
          "body_mass_g": 4000,
          "culmen_depth_mm": 18.5,
          "culmen_length_mm": 41.5,
          "flipper_length_mm": 201,
          "island": "Dream",
          "sex": "MALE",
          "species": "Adelie"
         },
         {
          "body_mass_g": 3500,
          "culmen_depth_mm": 17.9,
          "culmen_length_mm": 46.5,
          "flipper_length_mm": 192,
          "island": "Dream",
          "sex": "FEMALE",
          "species": "Chinstrap"
         },
         {
          "body_mass_g": 3900,
          "culmen_depth_mm": 19.5,
          "culmen_length_mm": 50,
          "flipper_length_mm": 196,
          "island": "Dream",
          "sex": "MALE",
          "species": "Chinstrap"
         },
         {
          "body_mass_g": 3650,
          "culmen_depth_mm": 19.2,
          "culmen_length_mm": 51.3,
          "flipper_length_mm": 193,
          "island": "Dream",
          "sex": "MALE",
          "species": "Chinstrap"
         },
         {
          "body_mass_g": 3525,
          "culmen_depth_mm": 18.7,
          "culmen_length_mm": 45.4,
          "flipper_length_mm": 188,
          "island": "Dream",
          "sex": "FEMALE",
          "species": "Chinstrap"
         },
         {
          "body_mass_g": 3725,
          "culmen_depth_mm": 19.8,
          "culmen_length_mm": 52.7,
          "flipper_length_mm": 197,
          "island": "Dream",
          "sex": "MALE",
          "species": "Chinstrap"
         },
         {
          "body_mass_g": 3950,
          "culmen_depth_mm": 17.8,
          "culmen_length_mm": 45.2,
          "flipper_length_mm": 198,
          "island": "Dream",
          "sex": "FEMALE",
          "species": "Chinstrap"
         },
         {
          "body_mass_g": 3250,
          "culmen_depth_mm": 18.2,
          "culmen_length_mm": 46.1,
          "flipper_length_mm": 178,
          "island": "Dream",
          "sex": "FEMALE",
          "species": "Chinstrap"
         },
         {
          "body_mass_g": 3750,
          "culmen_depth_mm": 18.2,
          "culmen_length_mm": 51.3,
          "flipper_length_mm": 197,
          "island": "Dream",
          "sex": "MALE",
          "species": "Chinstrap"
         },
         {
          "body_mass_g": 4150,
          "culmen_depth_mm": 18.9,
          "culmen_length_mm": 46,
          "flipper_length_mm": 195,
          "island": "Dream",
          "sex": "FEMALE",
          "species": "Chinstrap"
         },
         {
          "body_mass_g": 3700,
          "culmen_depth_mm": 19.9,
          "culmen_length_mm": 51.3,
          "flipper_length_mm": 198,
          "island": "Dream",
          "sex": "MALE",
          "species": "Chinstrap"
         },
         {
          "body_mass_g": 3800,
          "culmen_depth_mm": 17.8,
          "culmen_length_mm": 46.6,
          "flipper_length_mm": 193,
          "island": "Dream",
          "sex": "FEMALE",
          "species": "Chinstrap"
         },
         {
          "body_mass_g": 3775,
          "culmen_depth_mm": 20.3,
          "culmen_length_mm": 51.7,
          "flipper_length_mm": 194,
          "island": "Dream",
          "sex": "MALE",
          "species": "Chinstrap"
         },
         {
          "body_mass_g": 3700,
          "culmen_depth_mm": 17.3,
          "culmen_length_mm": 47,
          "flipper_length_mm": 185,
          "island": "Dream",
          "sex": "FEMALE",
          "species": "Chinstrap"
         },
         {
          "body_mass_g": 4050,
          "culmen_depth_mm": 18.1,
          "culmen_length_mm": 52,
          "flipper_length_mm": 201,
          "island": "Dream",
          "sex": "MALE",
          "species": "Chinstrap"
         },
         {
          "body_mass_g": 3575,
          "culmen_depth_mm": 17.1,
          "culmen_length_mm": 45.9,
          "flipper_length_mm": 190,
          "island": "Dream",
          "sex": "FEMALE",
          "species": "Chinstrap"
         },
         {
          "body_mass_g": 4050,
          "culmen_depth_mm": 19.6,
          "culmen_length_mm": 50.5,
          "flipper_length_mm": 201,
          "island": "Dream",
          "sex": "MALE",
          "species": "Chinstrap"
         },
         {
          "body_mass_g": 3300,
          "culmen_depth_mm": 20,
          "culmen_length_mm": 50.3,
          "flipper_length_mm": 197,
          "island": "Dream",
          "sex": "MALE",
          "species": "Chinstrap"
         },
         {
          "body_mass_g": 3700,
          "culmen_depth_mm": 17.8,
          "culmen_length_mm": 58,
          "flipper_length_mm": 181,
          "island": "Dream",
          "sex": "FEMALE",
          "species": "Chinstrap"
         },
         {
          "body_mass_g": 3450,
          "culmen_depth_mm": 18.6,
          "culmen_length_mm": 46.4,
          "flipper_length_mm": 190,
          "island": "Dream",
          "sex": "FEMALE",
          "species": "Chinstrap"
         },
         {
          "body_mass_g": 4400,
          "culmen_depth_mm": 18.2,
          "culmen_length_mm": 49.2,
          "flipper_length_mm": 195,
          "island": "Dream",
          "sex": "MALE",
          "species": "Chinstrap"
         },
         {
          "body_mass_g": 3600,
          "culmen_depth_mm": 17.3,
          "culmen_length_mm": 42.4,
          "flipper_length_mm": 181,
          "island": "Dream",
          "sex": "FEMALE",
          "species": "Chinstrap"
         },
         {
          "body_mass_g": 3400,
          "culmen_depth_mm": 17.5,
          "culmen_length_mm": 48.5,
          "flipper_length_mm": 191,
          "island": "Dream",
          "sex": "MALE",
          "species": "Chinstrap"
         },
         {
          "body_mass_g": 2900,
          "culmen_depth_mm": 16.6,
          "culmen_length_mm": 43.2,
          "flipper_length_mm": 187,
          "island": "Dream",
          "sex": "FEMALE",
          "species": "Chinstrap"
         },
         {
          "body_mass_g": 3800,
          "culmen_depth_mm": 19.4,
          "culmen_length_mm": 50.6,
          "flipper_length_mm": 193,
          "island": "Dream",
          "sex": "MALE",
          "species": "Chinstrap"
         },
         {
          "body_mass_g": 3300,
          "culmen_depth_mm": 17.9,
          "culmen_length_mm": 46.7,
          "flipper_length_mm": 195,
          "island": "Dream",
          "sex": "FEMALE",
          "species": "Chinstrap"
         },
         {
          "body_mass_g": 4150,
          "culmen_depth_mm": 19,
          "culmen_length_mm": 52,
          "flipper_length_mm": 197,
          "island": "Dream",
          "sex": "MALE",
          "species": "Chinstrap"
         },
         {
          "body_mass_g": 3400,
          "culmen_depth_mm": 18.4,
          "culmen_length_mm": 50.5,
          "flipper_length_mm": 200,
          "island": "Dream",
          "sex": "FEMALE",
          "species": "Chinstrap"
         },
         {
          "body_mass_g": 3800,
          "culmen_depth_mm": 19,
          "culmen_length_mm": 49.5,
          "flipper_length_mm": 200,
          "island": "Dream",
          "sex": "MALE",
          "species": "Chinstrap"
         },
         {
          "body_mass_g": 3700,
          "culmen_depth_mm": 17.8,
          "culmen_length_mm": 46.4,
          "flipper_length_mm": 191,
          "island": "Dream",
          "sex": "FEMALE",
          "species": "Chinstrap"
         },
         {
          "body_mass_g": 4550,
          "culmen_depth_mm": 20,
          "culmen_length_mm": 52.8,
          "flipper_length_mm": 205,
          "island": "Dream",
          "sex": "MALE",
          "species": "Chinstrap"
         },
         {
          "body_mass_g": 3200,
          "culmen_depth_mm": 16.6,
          "culmen_length_mm": 40.9,
          "flipper_length_mm": 187,
          "island": "Dream",
          "sex": "FEMALE",
          "species": "Chinstrap"
         },
         {
          "body_mass_g": 4300,
          "culmen_depth_mm": 20.8,
          "culmen_length_mm": 54.2,
          "flipper_length_mm": 201,
          "island": "Dream",
          "sex": "MALE",
          "species": "Chinstrap"
         },
         {
          "body_mass_g": 3350,
          "culmen_depth_mm": 16.7,
          "culmen_length_mm": 42.5,
          "flipper_length_mm": 187,
          "island": "Dream",
          "sex": "FEMALE",
          "species": "Chinstrap"
         },
         {
          "body_mass_g": 4100,
          "culmen_depth_mm": 18.8,
          "culmen_length_mm": 51,
          "flipper_length_mm": 203,
          "island": "Dream",
          "sex": "MALE",
          "species": "Chinstrap"
         },
         {
          "body_mass_g": 3600,
          "culmen_depth_mm": 18.6,
          "culmen_length_mm": 49.7,
          "flipper_length_mm": 195,
          "island": "Dream",
          "sex": "MALE",
          "species": "Chinstrap"
         },
         {
          "body_mass_g": 3900,
          "culmen_depth_mm": 16.8,
          "culmen_length_mm": 47.5,
          "flipper_length_mm": 199,
          "island": "Dream",
          "sex": "FEMALE",
          "species": "Chinstrap"
         },
         {
          "body_mass_g": 3850,
          "culmen_depth_mm": 18.3,
          "culmen_length_mm": 47.6,
          "flipper_length_mm": 195,
          "island": "Dream",
          "sex": "FEMALE",
          "species": "Chinstrap"
         },
         {
          "body_mass_g": 4800,
          "culmen_depth_mm": 20.7,
          "culmen_length_mm": 52,
          "flipper_length_mm": 210,
          "island": "Dream",
          "sex": "MALE",
          "species": "Chinstrap"
         },
         {
          "body_mass_g": 2700,
          "culmen_depth_mm": 16.6,
          "culmen_length_mm": 46.9,
          "flipper_length_mm": 192,
          "island": "Dream",
          "sex": "FEMALE",
          "species": "Chinstrap"
         },
         {
          "body_mass_g": 4500,
          "culmen_depth_mm": 19.9,
          "culmen_length_mm": 53.5,
          "flipper_length_mm": 205,
          "island": "Dream",
          "sex": "MALE",
          "species": "Chinstrap"
         },
         {
          "body_mass_g": 3950,
          "culmen_depth_mm": 19.5,
          "culmen_length_mm": 49,
          "flipper_length_mm": 210,
          "island": "Dream",
          "sex": "MALE",
          "species": "Chinstrap"
         },
         {
          "body_mass_g": 3650,
          "culmen_depth_mm": 17.5,
          "culmen_length_mm": 46.2,
          "flipper_length_mm": 187,
          "island": "Dream",
          "sex": "FEMALE",
          "species": "Chinstrap"
         },
         {
          "body_mass_g": 3550,
          "culmen_depth_mm": 19.1,
          "culmen_length_mm": 50.9,
          "flipper_length_mm": 196,
          "island": "Dream",
          "sex": "MALE",
          "species": "Chinstrap"
         },
         {
          "body_mass_g": 3500,
          "culmen_depth_mm": 17,
          "culmen_length_mm": 45.5,
          "flipper_length_mm": 196,
          "island": "Dream",
          "sex": "FEMALE",
          "species": "Chinstrap"
         },
         {
          "body_mass_g": 3675,
          "culmen_depth_mm": 17.9,
          "culmen_length_mm": 50.9,
          "flipper_length_mm": 196,
          "island": "Dream",
          "sex": "FEMALE",
          "species": "Chinstrap"
         },
         {
          "body_mass_g": 4450,
          "culmen_depth_mm": 18.5,
          "culmen_length_mm": 50.8,
          "flipper_length_mm": 201,
          "island": "Dream",
          "sex": "MALE",
          "species": "Chinstrap"
         },
         {
          "body_mass_g": 3400,
          "culmen_depth_mm": 17.9,
          "culmen_length_mm": 50.1,
          "flipper_length_mm": 190,
          "island": "Dream",
          "sex": "FEMALE",
          "species": "Chinstrap"
         },
         {
          "body_mass_g": 4300,
          "culmen_depth_mm": 19.6,
          "culmen_length_mm": 49,
          "flipper_length_mm": 212,
          "island": "Dream",
          "sex": "MALE",
          "species": "Chinstrap"
         },
         {
          "body_mass_g": 3250,
          "culmen_depth_mm": 18.7,
          "culmen_length_mm": 51.5,
          "flipper_length_mm": 187,
          "island": "Dream",
          "sex": "MALE",
          "species": "Chinstrap"
         },
         {
          "body_mass_g": 3675,
          "culmen_depth_mm": 17.3,
          "culmen_length_mm": 49.8,
          "flipper_length_mm": 198,
          "island": "Dream",
          "sex": "FEMALE",
          "species": "Chinstrap"
         },
         {
          "body_mass_g": 3325,
          "culmen_depth_mm": 16.4,
          "culmen_length_mm": 48.1,
          "flipper_length_mm": 199,
          "island": "Dream",
          "sex": "FEMALE",
          "species": "Chinstrap"
         },
         {
          "body_mass_g": 3950,
          "culmen_depth_mm": 19,
          "culmen_length_mm": 51.4,
          "flipper_length_mm": 201,
          "island": "Dream",
          "sex": "MALE",
          "species": "Chinstrap"
         },
         {
          "body_mass_g": 3600,
          "culmen_depth_mm": 17.3,
          "culmen_length_mm": 45.7,
          "flipper_length_mm": 193,
          "island": "Dream",
          "sex": "FEMALE",
          "species": "Chinstrap"
         },
         {
          "body_mass_g": 4050,
          "culmen_depth_mm": 19.7,
          "culmen_length_mm": 50.7,
          "flipper_length_mm": 203,
          "island": "Dream",
          "sex": "MALE",
          "species": "Chinstrap"
         },
         {
          "body_mass_g": 3350,
          "culmen_depth_mm": 17.3,
          "culmen_length_mm": 42.5,
          "flipper_length_mm": 187,
          "island": "Dream",
          "sex": "FEMALE",
          "species": "Chinstrap"
         },
         {
          "body_mass_g": 3450,
          "culmen_depth_mm": 18.8,
          "culmen_length_mm": 52.2,
          "flipper_length_mm": 197,
          "island": "Dream",
          "sex": "MALE",
          "species": "Chinstrap"
         },
         {
          "body_mass_g": 3250,
          "culmen_depth_mm": 16.6,
          "culmen_length_mm": 45.2,
          "flipper_length_mm": 191,
          "island": "Dream",
          "sex": "FEMALE",
          "species": "Chinstrap"
         },
         {
          "body_mass_g": 4050,
          "culmen_depth_mm": 19.9,
          "culmen_length_mm": 49.3,
          "flipper_length_mm": 203,
          "island": "Dream",
          "sex": "MALE",
          "species": "Chinstrap"
         },
         {
          "body_mass_g": 3800,
          "culmen_depth_mm": 18.8,
          "culmen_length_mm": 50.2,
          "flipper_length_mm": 202,
          "island": "Dream",
          "sex": "MALE",
          "species": "Chinstrap"
         },
         {
          "body_mass_g": 3525,
          "culmen_depth_mm": 19.4,
          "culmen_length_mm": 45.6,
          "flipper_length_mm": 194,
          "island": "Dream",
          "sex": "FEMALE",
          "species": "Chinstrap"
         },
         {
          "body_mass_g": 3950,
          "culmen_depth_mm": 19.5,
          "culmen_length_mm": 51.9,
          "flipper_length_mm": 206,
          "island": "Dream",
          "sex": "MALE",
          "species": "Chinstrap"
         },
         {
          "body_mass_g": 3650,
          "culmen_depth_mm": 16.5,
          "culmen_length_mm": 46.8,
          "flipper_length_mm": 189,
          "island": "Dream",
          "sex": "FEMALE",
          "species": "Chinstrap"
         },
         {
          "body_mass_g": 3650,
          "culmen_depth_mm": 17,
          "culmen_length_mm": 45.7,
          "flipper_length_mm": 195,
          "island": "Dream",
          "sex": "FEMALE",
          "species": "Chinstrap"
         },
         {
          "body_mass_g": 4000,
          "culmen_depth_mm": 19.8,
          "culmen_length_mm": 55.8,
          "flipper_length_mm": 207,
          "island": "Dream",
          "sex": "MALE",
          "species": "Chinstrap"
         },
         {
          "body_mass_g": 3400,
          "culmen_depth_mm": 18.1,
          "culmen_length_mm": 43.5,
          "flipper_length_mm": 202,
          "island": "Dream",
          "sex": "FEMALE",
          "species": "Chinstrap"
         },
         {
          "body_mass_g": 3775,
          "culmen_depth_mm": 18.2,
          "culmen_length_mm": 49.6,
          "flipper_length_mm": 193,
          "island": "Dream",
          "sex": "MALE",
          "species": "Chinstrap"
         },
         {
          "body_mass_g": 4100,
          "culmen_depth_mm": 19,
          "culmen_length_mm": 50.8,
          "flipper_length_mm": 210,
          "island": "Dream",
          "sex": "MALE",
          "species": "Chinstrap"
         },
         {
          "body_mass_g": 3775,
          "culmen_depth_mm": 18.7,
          "culmen_length_mm": 50.2,
          "flipper_length_mm": 198,
          "island": "Dream",
          "sex": "FEMALE",
          "species": "Chinstrap"
         },
         {
          "body_mass_g": 4500,
          "culmen_depth_mm": 13.2,
          "culmen_length_mm": 46.1,
          "flipper_length_mm": 211,
          "island": "Biscoe",
          "sex": "FEMALE",
          "species": "Gentoo"
         },
         {
          "body_mass_g": 5700,
          "culmen_depth_mm": 16.3,
          "culmen_length_mm": 50,
          "flipper_length_mm": 230,
          "island": "Biscoe",
          "sex": "MALE",
          "species": "Gentoo"
         },
         {
          "body_mass_g": 4450,
          "culmen_depth_mm": 14.1,
          "culmen_length_mm": 48.7,
          "flipper_length_mm": 210,
          "island": "Biscoe",
          "sex": "FEMALE",
          "species": "Gentoo"
         },
         {
          "body_mass_g": 5700,
          "culmen_depth_mm": 15.2,
          "culmen_length_mm": 50,
          "flipper_length_mm": 218,
          "island": "Biscoe",
          "sex": "MALE",
          "species": "Gentoo"
         },
         {
          "body_mass_g": 5400,
          "culmen_depth_mm": 14.5,
          "culmen_length_mm": 47.6,
          "flipper_length_mm": 215,
          "island": "Biscoe",
          "sex": "MALE",
          "species": "Gentoo"
         },
         {
          "body_mass_g": 4550,
          "culmen_depth_mm": 13.5,
          "culmen_length_mm": 46.5,
          "flipper_length_mm": 210,
          "island": "Biscoe",
          "sex": "FEMALE",
          "species": "Gentoo"
         },
         {
          "body_mass_g": 4800,
          "culmen_depth_mm": 14.6,
          "culmen_length_mm": 45.4,
          "flipper_length_mm": 211,
          "island": "Biscoe",
          "sex": "FEMALE",
          "species": "Gentoo"
         },
         {
          "body_mass_g": 5200,
          "culmen_depth_mm": 15.3,
          "culmen_length_mm": 46.7,
          "flipper_length_mm": 219,
          "island": "Biscoe",
          "sex": "MALE",
          "species": "Gentoo"
         },
         {
          "body_mass_g": 4400,
          "culmen_depth_mm": 13.4,
          "culmen_length_mm": 43.3,
          "flipper_length_mm": 209,
          "island": "Biscoe",
          "sex": "FEMALE",
          "species": "Gentoo"
         },
         {
          "body_mass_g": 5150,
          "culmen_depth_mm": 15.4,
          "culmen_length_mm": 46.8,
          "flipper_length_mm": 215,
          "island": "Biscoe",
          "sex": "MALE",
          "species": "Gentoo"
         },
         {
          "body_mass_g": 4650,
          "culmen_depth_mm": 13.7,
          "culmen_length_mm": 40.9,
          "flipper_length_mm": 214,
          "island": "Biscoe",
          "sex": "FEMALE",
          "species": "Gentoo"
         },
         {
          "body_mass_g": 5550,
          "culmen_depth_mm": 16.1,
          "culmen_length_mm": 49,
          "flipper_length_mm": 216,
          "island": "Biscoe",
          "sex": "MALE",
          "species": "Gentoo"
         },
         {
          "body_mass_g": 4650,
          "culmen_depth_mm": 13.7,
          "culmen_length_mm": 45.5,
          "flipper_length_mm": 214,
          "island": "Biscoe",
          "sex": "FEMALE",
          "species": "Gentoo"
         },
         {
          "body_mass_g": 5850,
          "culmen_depth_mm": 14.6,
          "culmen_length_mm": 48.4,
          "flipper_length_mm": 213,
          "island": "Biscoe",
          "sex": "MALE",
          "species": "Gentoo"
         },
         {
          "body_mass_g": 4200,
          "culmen_depth_mm": 14.6,
          "culmen_length_mm": 45.8,
          "flipper_length_mm": 210,
          "island": "Biscoe",
          "sex": "FEMALE",
          "species": "Gentoo"
         },
         {
          "body_mass_g": 5850,
          "culmen_depth_mm": 15.7,
          "culmen_length_mm": 49.3,
          "flipper_length_mm": 217,
          "island": "Biscoe",
          "sex": "MALE",
          "species": "Gentoo"
         },
         {
          "body_mass_g": 4150,
          "culmen_depth_mm": 13.5,
          "culmen_length_mm": 42,
          "flipper_length_mm": 210,
          "island": "Biscoe",
          "sex": "FEMALE",
          "species": "Gentoo"
         },
         {
          "body_mass_g": 6300,
          "culmen_depth_mm": 15.2,
          "culmen_length_mm": 49.2,
          "flipper_length_mm": 221,
          "island": "Biscoe",
          "sex": "MALE",
          "species": "Gentoo"
         },
         {
          "body_mass_g": 4800,
          "culmen_depth_mm": 14.5,
          "culmen_length_mm": 46.2,
          "flipper_length_mm": 209,
          "island": "Biscoe",
          "sex": "FEMALE",
          "species": "Gentoo"
         },
         {
          "body_mass_g": 5350,
          "culmen_depth_mm": 15.1,
          "culmen_length_mm": 48.7,
          "flipper_length_mm": 222,
          "island": "Biscoe",
          "sex": "MALE",
          "species": "Gentoo"
         },
         {
          "body_mass_g": 5700,
          "culmen_depth_mm": 14.3,
          "culmen_length_mm": 50.2,
          "flipper_length_mm": 218,
          "island": "Biscoe",
          "sex": "MALE",
          "species": "Gentoo"
         },
         {
          "body_mass_g": 5000,
          "culmen_depth_mm": 14.5,
          "culmen_length_mm": 45.1,
          "flipper_length_mm": 215,
          "island": "Biscoe",
          "sex": "FEMALE",
          "species": "Gentoo"
         },
         {
          "body_mass_g": 4400,
          "culmen_depth_mm": 14.5,
          "culmen_length_mm": 46.5,
          "flipper_length_mm": 213,
          "island": "Biscoe",
          "sex": "FEMALE",
          "species": "Gentoo"
         },
         {
          "body_mass_g": 5050,
          "culmen_depth_mm": 15.8,
          "culmen_length_mm": 46.3,
          "flipper_length_mm": 215,
          "island": "Biscoe",
          "sex": "MALE",
          "species": "Gentoo"
         },
         {
          "body_mass_g": 5000,
          "culmen_depth_mm": 13.1,
          "culmen_length_mm": 42.9,
          "flipper_length_mm": 215,
          "island": "Biscoe",
          "sex": "FEMALE",
          "species": "Gentoo"
         },
         {
          "body_mass_g": 5100,
          "culmen_depth_mm": 15.1,
          "culmen_length_mm": 46.1,
          "flipper_length_mm": 215,
          "island": "Biscoe",
          "sex": "MALE",
          "species": "Gentoo"
         },
         {
          "body_mass_g": 4100,
          "culmen_depth_mm": 14.3,
          "culmen_length_mm": 44.5,
          "flipper_length_mm": 216,
          "island": "Biscoe",
          "sex": null,
          "species": "Gentoo"
         },
         {
          "body_mass_g": 5650,
          "culmen_depth_mm": 15,
          "culmen_length_mm": 47.8,
          "flipper_length_mm": 215,
          "island": "Biscoe",
          "sex": "MALE",
          "species": "Gentoo"
         },
         {
          "body_mass_g": 4600,
          "culmen_depth_mm": 14.3,
          "culmen_length_mm": 48.2,
          "flipper_length_mm": 210,
          "island": "Biscoe",
          "sex": "FEMALE",
          "species": "Gentoo"
         },
         {
          "body_mass_g": 5550,
          "culmen_depth_mm": 15.3,
          "culmen_length_mm": 50,
          "flipper_length_mm": 220,
          "island": "Biscoe",
          "sex": "MALE",
          "species": "Gentoo"
         },
         {
          "body_mass_g": 5250,
          "culmen_depth_mm": 15.3,
          "culmen_length_mm": 47.3,
          "flipper_length_mm": 222,
          "island": "Biscoe",
          "sex": "MALE",
          "species": "Gentoo"
         },
         {
          "body_mass_g": 4700,
          "culmen_depth_mm": 14.2,
          "culmen_length_mm": 42.8,
          "flipper_length_mm": 209,
          "island": "Biscoe",
          "sex": "FEMALE",
          "species": "Gentoo"
         },
         {
          "body_mass_g": 5050,
          "culmen_depth_mm": 14.5,
          "culmen_length_mm": 45.1,
          "flipper_length_mm": 207,
          "island": "Biscoe",
          "sex": "FEMALE",
          "species": "Gentoo"
         },
         {
          "body_mass_g": 6050,
          "culmen_depth_mm": 17,
          "culmen_length_mm": 59.6,
          "flipper_length_mm": 230,
          "island": "Biscoe",
          "sex": "MALE",
          "species": "Gentoo"
         },
         {
          "body_mass_g": 5150,
          "culmen_depth_mm": 14.8,
          "culmen_length_mm": 49.1,
          "flipper_length_mm": 220,
          "island": "Biscoe",
          "sex": "FEMALE",
          "species": "Gentoo"
         },
         {
          "body_mass_g": 5400,
          "culmen_depth_mm": 16.3,
          "culmen_length_mm": 48.4,
          "flipper_length_mm": 220,
          "island": "Biscoe",
          "sex": "MALE",
          "species": "Gentoo"
         },
         {
          "body_mass_g": 4950,
          "culmen_depth_mm": 13.7,
          "culmen_length_mm": 42.6,
          "flipper_length_mm": 213,
          "island": "Biscoe",
          "sex": "FEMALE",
          "species": "Gentoo"
         },
         {
          "body_mass_g": 5250,
          "culmen_depth_mm": 17.3,
          "culmen_length_mm": 44.4,
          "flipper_length_mm": 219,
          "island": "Biscoe",
          "sex": "MALE",
          "species": "Gentoo"
         },
         {
          "body_mass_g": 4350,
          "culmen_depth_mm": 13.6,
          "culmen_length_mm": 44,
          "flipper_length_mm": 208,
          "island": "Biscoe",
          "sex": "FEMALE",
          "species": "Gentoo"
         },
         {
          "body_mass_g": 5350,
          "culmen_depth_mm": 15.7,
          "culmen_length_mm": 48.7,
          "flipper_length_mm": 208,
          "island": "Biscoe",
          "sex": "MALE",
          "species": "Gentoo"
         },
         {
          "body_mass_g": 3950,
          "culmen_depth_mm": 13.7,
          "culmen_length_mm": 42.7,
          "flipper_length_mm": 208,
          "island": "Biscoe",
          "sex": "FEMALE",
          "species": "Gentoo"
         },
         {
          "body_mass_g": 5700,
          "culmen_depth_mm": 16,
          "culmen_length_mm": 49.6,
          "flipper_length_mm": 225,
          "island": "Biscoe",
          "sex": "MALE",
          "species": "Gentoo"
         },
         {
          "body_mass_g": 4300,
          "culmen_depth_mm": 13.7,
          "culmen_length_mm": 45.3,
          "flipper_length_mm": 210,
          "island": "Biscoe",
          "sex": "FEMALE",
          "species": "Gentoo"
         },
         {
          "body_mass_g": 4750,
          "culmen_depth_mm": 15,
          "culmen_length_mm": 49.6,
          "flipper_length_mm": 216,
          "island": "Biscoe",
          "sex": "MALE",
          "species": "Gentoo"
         },
         {
          "body_mass_g": 5550,
          "culmen_depth_mm": 15.9,
          "culmen_length_mm": 50.5,
          "flipper_length_mm": 222,
          "island": "Biscoe",
          "sex": "MALE",
          "species": "Gentoo"
         },
         {
          "body_mass_g": 4900,
          "culmen_depth_mm": 13.9,
          "culmen_length_mm": 43.6,
          "flipper_length_mm": 217,
          "island": "Biscoe",
          "sex": "FEMALE",
          "species": "Gentoo"
         },
         {
          "body_mass_g": 4200,
          "culmen_depth_mm": 13.9,
          "culmen_length_mm": 45.5,
          "flipper_length_mm": 210,
          "island": "Biscoe",
          "sex": "FEMALE",
          "species": "Gentoo"
         },
         {
          "body_mass_g": 5400,
          "culmen_depth_mm": 15.9,
          "culmen_length_mm": 50.5,
          "flipper_length_mm": 225,
          "island": "Biscoe",
          "sex": "MALE",
          "species": "Gentoo"
         },
         {
          "body_mass_g": 5100,
          "culmen_depth_mm": 13.3,
          "culmen_length_mm": 44.9,
          "flipper_length_mm": 213,
          "island": "Biscoe",
          "sex": "FEMALE",
          "species": "Gentoo"
         },
         {
          "body_mass_g": 5300,
          "culmen_depth_mm": 15.8,
          "culmen_length_mm": 45.2,
          "flipper_length_mm": 215,
          "island": "Biscoe",
          "sex": "MALE",
          "species": "Gentoo"
         },
         {
          "body_mass_g": 4850,
          "culmen_depth_mm": 14.2,
          "culmen_length_mm": 46.6,
          "flipper_length_mm": 210,
          "island": "Biscoe",
          "sex": "FEMALE",
          "species": "Gentoo"
         },
         {
          "body_mass_g": 5300,
          "culmen_depth_mm": 14.1,
          "culmen_length_mm": 48.5,
          "flipper_length_mm": 220,
          "island": "Biscoe",
          "sex": "MALE",
          "species": "Gentoo"
         },
         {
          "body_mass_g": 4400,
          "culmen_depth_mm": 14.4,
          "culmen_length_mm": 45.1,
          "flipper_length_mm": 210,
          "island": "Biscoe",
          "sex": "FEMALE",
          "species": "Gentoo"
         },
         {
          "body_mass_g": 5000,
          "culmen_depth_mm": 15,
          "culmen_length_mm": 50.1,
          "flipper_length_mm": 225,
          "island": "Biscoe",
          "sex": "MALE",
          "species": "Gentoo"
         },
         {
          "body_mass_g": 4900,
          "culmen_depth_mm": 14.4,
          "culmen_length_mm": 46.5,
          "flipper_length_mm": 217,
          "island": "Biscoe",
          "sex": "FEMALE",
          "species": "Gentoo"
         },
         {
          "body_mass_g": 5050,
          "culmen_depth_mm": 15.4,
          "culmen_length_mm": 45,
          "flipper_length_mm": 220,
          "island": "Biscoe",
          "sex": "MALE",
          "species": "Gentoo"
         },
         {
          "body_mass_g": 4300,
          "culmen_depth_mm": 13.9,
          "culmen_length_mm": 43.8,
          "flipper_length_mm": 208,
          "island": "Biscoe",
          "sex": "FEMALE",
          "species": "Gentoo"
         },
         {
          "body_mass_g": 5000,
          "culmen_depth_mm": 15,
          "culmen_length_mm": 45.5,
          "flipper_length_mm": 220,
          "island": "Biscoe",
          "sex": "MALE",
          "species": "Gentoo"
         },
         {
          "body_mass_g": 4450,
          "culmen_depth_mm": 14.5,
          "culmen_length_mm": 43.2,
          "flipper_length_mm": 208,
          "island": "Biscoe",
          "sex": "FEMALE",
          "species": "Gentoo"
         },
         {
          "body_mass_g": 5550,
          "culmen_depth_mm": 15.3,
          "culmen_length_mm": 50.4,
          "flipper_length_mm": 224,
          "island": "Biscoe",
          "sex": "MALE",
          "species": "Gentoo"
         },
         {
          "body_mass_g": 4200,
          "culmen_depth_mm": 13.8,
          "culmen_length_mm": 45.3,
          "flipper_length_mm": 208,
          "island": "Biscoe",
          "sex": "FEMALE",
          "species": "Gentoo"
         },
         {
          "body_mass_g": 5300,
          "culmen_depth_mm": 14.9,
          "culmen_length_mm": 46.2,
          "flipper_length_mm": 221,
          "island": "Biscoe",
          "sex": "MALE",
          "species": "Gentoo"
         },
         {
          "body_mass_g": 4400,
          "culmen_depth_mm": 13.9,
          "culmen_length_mm": 45.7,
          "flipper_length_mm": 214,
          "island": "Biscoe",
          "sex": "FEMALE",
          "species": "Gentoo"
         },
         {
          "body_mass_g": 5650,
          "culmen_depth_mm": 15.7,
          "culmen_length_mm": 54.3,
          "flipper_length_mm": 231,
          "island": "Biscoe",
          "sex": "MALE",
          "species": "Gentoo"
         },
         {
          "body_mass_g": 4700,
          "culmen_depth_mm": 14.2,
          "culmen_length_mm": 45.8,
          "flipper_length_mm": 219,
          "island": "Biscoe",
          "sex": "FEMALE",
          "species": "Gentoo"
         },
         {
          "body_mass_g": 5700,
          "culmen_depth_mm": 16.8,
          "culmen_length_mm": 49.8,
          "flipper_length_mm": 230,
          "island": "Biscoe",
          "sex": "MALE",
          "species": "Gentoo"
         },
         {
          "body_mass_g": 4650,
          "culmen_depth_mm": 14.4,
          "culmen_length_mm": 46.2,
          "flipper_length_mm": 214,
          "island": "Biscoe",
          "sex": null,
          "species": "Gentoo"
         },
         {
          "body_mass_g": 5800,
          "culmen_depth_mm": 16.2,
          "culmen_length_mm": 49.5,
          "flipper_length_mm": 229,
          "island": "Biscoe",
          "sex": "MALE",
          "species": "Gentoo"
         },
         {
          "body_mass_g": 4700,
          "culmen_depth_mm": 14.2,
          "culmen_length_mm": 43.5,
          "flipper_length_mm": 220,
          "island": "Biscoe",
          "sex": "FEMALE",
          "species": "Gentoo"
         },
         {
          "body_mass_g": 5550,
          "culmen_depth_mm": 15,
          "culmen_length_mm": 50.7,
          "flipper_length_mm": 223,
          "island": "Biscoe",
          "sex": "MALE",
          "species": "Gentoo"
         },
         {
          "body_mass_g": 4750,
          "culmen_depth_mm": 15,
          "culmen_length_mm": 47.7,
          "flipper_length_mm": 216,
          "island": "Biscoe",
          "sex": "FEMALE",
          "species": "Gentoo"
         },
         {
          "body_mass_g": 5000,
          "culmen_depth_mm": 15.6,
          "culmen_length_mm": 46.4,
          "flipper_length_mm": 221,
          "island": "Biscoe",
          "sex": "MALE",
          "species": "Gentoo"
         },
         {
          "body_mass_g": 5100,
          "culmen_depth_mm": 15.6,
          "culmen_length_mm": 48.2,
          "flipper_length_mm": 221,
          "island": "Biscoe",
          "sex": "MALE",
          "species": "Gentoo"
         },
         {
          "body_mass_g": 5200,
          "culmen_depth_mm": 14.8,
          "culmen_length_mm": 46.5,
          "flipper_length_mm": 217,
          "island": "Biscoe",
          "sex": "FEMALE",
          "species": "Gentoo"
         },
         {
          "body_mass_g": 4700,
          "culmen_depth_mm": 15,
          "culmen_length_mm": 46.4,
          "flipper_length_mm": 216,
          "island": "Biscoe",
          "sex": "FEMALE",
          "species": "Gentoo"
         },
         {
          "body_mass_g": 5800,
          "culmen_depth_mm": 16,
          "culmen_length_mm": 48.6,
          "flipper_length_mm": 230,
          "island": "Biscoe",
          "sex": "MALE",
          "species": "Gentoo"
         },
         {
          "body_mass_g": 4600,
          "culmen_depth_mm": 14.2,
          "culmen_length_mm": 47.5,
          "flipper_length_mm": 209,
          "island": "Biscoe",
          "sex": "FEMALE",
          "species": "Gentoo"
         },
         {
          "body_mass_g": 6000,
          "culmen_depth_mm": 16.3,
          "culmen_length_mm": 51.1,
          "flipper_length_mm": 220,
          "island": "Biscoe",
          "sex": "MALE",
          "species": "Gentoo"
         },
         {
          "body_mass_g": 4750,
          "culmen_depth_mm": 13.8,
          "culmen_length_mm": 45.2,
          "flipper_length_mm": 215,
          "island": "Biscoe",
          "sex": "FEMALE",
          "species": "Gentoo"
         },
         {
          "body_mass_g": 5950,
          "culmen_depth_mm": 16.4,
          "culmen_length_mm": 45.2,
          "flipper_length_mm": 223,
          "island": "Biscoe",
          "sex": "MALE",
          "species": "Gentoo"
         },
         {
          "body_mass_g": 4625,
          "culmen_depth_mm": 14.5,
          "culmen_length_mm": 49.1,
          "flipper_length_mm": 212,
          "island": "Biscoe",
          "sex": "FEMALE",
          "species": "Gentoo"
         },
         {
          "body_mass_g": 5450,
          "culmen_depth_mm": 15.6,
          "culmen_length_mm": 52.5,
          "flipper_length_mm": 221,
          "island": "Biscoe",
          "sex": "MALE",
          "species": "Gentoo"
         },
         {
          "body_mass_g": 4725,
          "culmen_depth_mm": 14.6,
          "culmen_length_mm": 47.4,
          "flipper_length_mm": 212,
          "island": "Biscoe",
          "sex": "FEMALE",
          "species": "Gentoo"
         },
         {
          "body_mass_g": 5350,
          "culmen_depth_mm": 15.9,
          "culmen_length_mm": 50,
          "flipper_length_mm": 224,
          "island": "Biscoe",
          "sex": "MALE",
          "species": "Gentoo"
         },
         {
          "body_mass_g": 4750,
          "culmen_depth_mm": 13.8,
          "culmen_length_mm": 44.9,
          "flipper_length_mm": 212,
          "island": "Biscoe",
          "sex": "FEMALE",
          "species": "Gentoo"
         },
         {
          "body_mass_g": 5600,
          "culmen_depth_mm": 17.3,
          "culmen_length_mm": 50.8,
          "flipper_length_mm": 228,
          "island": "Biscoe",
          "sex": "MALE",
          "species": "Gentoo"
         },
         {
          "body_mass_g": 4600,
          "culmen_depth_mm": 14.4,
          "culmen_length_mm": 43.4,
          "flipper_length_mm": 218,
          "island": "Biscoe",
          "sex": "FEMALE",
          "species": "Gentoo"
         },
         {
          "body_mass_g": 5300,
          "culmen_depth_mm": 14.2,
          "culmen_length_mm": 51.3,
          "flipper_length_mm": 218,
          "island": "Biscoe",
          "sex": "MALE",
          "species": "Gentoo"
         },
         {
          "body_mass_g": 4875,
          "culmen_depth_mm": 14,
          "culmen_length_mm": 47.5,
          "flipper_length_mm": 212,
          "island": "Biscoe",
          "sex": "FEMALE",
          "species": "Gentoo"
         },
         {
          "body_mass_g": 5550,
          "culmen_depth_mm": 17,
          "culmen_length_mm": 52.1,
          "flipper_length_mm": 230,
          "island": "Biscoe",
          "sex": "MALE",
          "species": "Gentoo"
         },
         {
          "body_mass_g": 4950,
          "culmen_depth_mm": 15,
          "culmen_length_mm": 47.5,
          "flipper_length_mm": 218,
          "island": "Biscoe",
          "sex": "FEMALE",
          "species": "Gentoo"
         },
         {
          "body_mass_g": 5400,
          "culmen_depth_mm": 17.1,
          "culmen_length_mm": 52.2,
          "flipper_length_mm": 228,
          "island": "Biscoe",
          "sex": "MALE",
          "species": "Gentoo"
         },
         {
          "body_mass_g": 4750,
          "culmen_depth_mm": 14.5,
          "culmen_length_mm": 45.5,
          "flipper_length_mm": 212,
          "island": "Biscoe",
          "sex": "FEMALE",
          "species": "Gentoo"
         },
         {
          "body_mass_g": 5650,
          "culmen_depth_mm": 16.1,
          "culmen_length_mm": 49.5,
          "flipper_length_mm": 224,
          "island": "Biscoe",
          "sex": "MALE",
          "species": "Gentoo"
         },
         {
          "body_mass_g": 4850,
          "culmen_depth_mm": 14.7,
          "culmen_length_mm": 44.5,
          "flipper_length_mm": 214,
          "island": "Biscoe",
          "sex": "FEMALE",
          "species": "Gentoo"
         },
         {
          "body_mass_g": 5200,
          "culmen_depth_mm": 15.7,
          "culmen_length_mm": 50.8,
          "flipper_length_mm": 226,
          "island": "Biscoe",
          "sex": "MALE",
          "species": "Gentoo"
         },
         {
          "body_mass_g": 4925,
          "culmen_depth_mm": 15.8,
          "culmen_length_mm": 49.4,
          "flipper_length_mm": 216,
          "island": "Biscoe",
          "sex": "MALE",
          "species": "Gentoo"
         },
         {
          "body_mass_g": 4875,
          "culmen_depth_mm": 14.6,
          "culmen_length_mm": 46.9,
          "flipper_length_mm": 222,
          "island": "Biscoe",
          "sex": "FEMALE",
          "species": "Gentoo"
         },
         {
          "body_mass_g": 4625,
          "culmen_depth_mm": 14.4,
          "culmen_length_mm": 48.4,
          "flipper_length_mm": 203,
          "island": "Biscoe",
          "sex": "FEMALE",
          "species": "Gentoo"
         },
         {
          "body_mass_g": 5250,
          "culmen_depth_mm": 16.5,
          "culmen_length_mm": 51.1,
          "flipper_length_mm": 225,
          "island": "Biscoe",
          "sex": "MALE",
          "species": "Gentoo"
         },
         {
          "body_mass_g": 4850,
          "culmen_depth_mm": 15,
          "culmen_length_mm": 48.5,
          "flipper_length_mm": 219,
          "island": "Biscoe",
          "sex": "FEMALE",
          "species": "Gentoo"
         },
         {
          "body_mass_g": 5600,
          "culmen_depth_mm": 17,
          "culmen_length_mm": 55.9,
          "flipper_length_mm": 228,
          "island": "Biscoe",
          "sex": "MALE",
          "species": "Gentoo"
         },
         {
          "body_mass_g": 4975,
          "culmen_depth_mm": 15.5,
          "culmen_length_mm": 47.2,
          "flipper_length_mm": 215,
          "island": "Biscoe",
          "sex": "FEMALE",
          "species": "Gentoo"
         },
         {
          "body_mass_g": 5500,
          "culmen_depth_mm": 15,
          "culmen_length_mm": 49.1,
          "flipper_length_mm": 228,
          "island": "Biscoe",
          "sex": "MALE",
          "species": "Gentoo"
         },
         {
          "body_mass_g": 4725,
          "culmen_depth_mm": 13.8,
          "culmen_length_mm": 47.3,
          "flipper_length_mm": 216,
          "island": "Biscoe",
          "sex": null,
          "species": "Gentoo"
         },
         {
          "body_mass_g": 5500,
          "culmen_depth_mm": 16.1,
          "culmen_length_mm": 46.8,
          "flipper_length_mm": 215,
          "island": "Biscoe",
          "sex": "MALE",
          "species": "Gentoo"
         },
         {
          "body_mass_g": 4700,
          "culmen_depth_mm": 14.7,
          "culmen_length_mm": 41.7,
          "flipper_length_mm": 210,
          "island": "Biscoe",
          "sex": "FEMALE",
          "species": "Gentoo"
         },
         {
          "body_mass_g": 5500,
          "culmen_depth_mm": 15.8,
          "culmen_length_mm": 53.4,
          "flipper_length_mm": 219,
          "island": "Biscoe",
          "sex": "MALE",
          "species": "Gentoo"
         },
         {
          "body_mass_g": 4575,
          "culmen_depth_mm": 14,
          "culmen_length_mm": 43.3,
          "flipper_length_mm": 208,
          "island": "Biscoe",
          "sex": "FEMALE",
          "species": "Gentoo"
         },
         {
          "body_mass_g": 5500,
          "culmen_depth_mm": 15.1,
          "culmen_length_mm": 48.1,
          "flipper_length_mm": 209,
          "island": "Biscoe",
          "sex": "MALE",
          "species": "Gentoo"
         },
         {
          "body_mass_g": 5000,
          "culmen_depth_mm": 15.2,
          "culmen_length_mm": 50.5,
          "flipper_length_mm": 216,
          "island": "Biscoe",
          "sex": "FEMALE",
          "species": "Gentoo"
         },
         {
          "body_mass_g": 5950,
          "culmen_depth_mm": 15.9,
          "culmen_length_mm": 49.8,
          "flipper_length_mm": 229,
          "island": "Biscoe",
          "sex": "MALE",
          "species": "Gentoo"
         },
         {
          "body_mass_g": 4650,
          "culmen_depth_mm": 15.2,
          "culmen_length_mm": 43.5,
          "flipper_length_mm": 213,
          "island": "Biscoe",
          "sex": "FEMALE",
          "species": "Gentoo"
         },
         {
          "body_mass_g": 5500,
          "culmen_depth_mm": 16.3,
          "culmen_length_mm": 51.5,
          "flipper_length_mm": 230,
          "island": "Biscoe",
          "sex": "MALE",
          "species": "Gentoo"
         },
         {
          "body_mass_g": 4375,
          "culmen_depth_mm": 14.1,
          "culmen_length_mm": 46.2,
          "flipper_length_mm": 217,
          "island": "Biscoe",
          "sex": "FEMALE",
          "species": "Gentoo"
         },
         {
          "body_mass_g": 5850,
          "culmen_depth_mm": 16,
          "culmen_length_mm": 55.1,
          "flipper_length_mm": 230,
          "island": "Biscoe",
          "sex": "MALE",
          "species": "Gentoo"
         },
         {
          "body_mass_g": 4875,
          "culmen_depth_mm": 15.7,
          "culmen_length_mm": 44.5,
          "flipper_length_mm": 217,
          "island": "Biscoe",
          "sex": ".",
          "species": "Gentoo"
         },
         {
          "body_mass_g": 6000,
          "culmen_depth_mm": 16.2,
          "culmen_length_mm": 48.8,
          "flipper_length_mm": 222,
          "island": "Biscoe",
          "sex": "MALE",
          "species": "Gentoo"
         },
         {
          "body_mass_g": 4925,
          "culmen_depth_mm": 13.7,
          "culmen_length_mm": 47.2,
          "flipper_length_mm": 214,
          "island": "Biscoe",
          "sex": "FEMALE",
          "species": "Gentoo"
         },
         {
          "body_mass_g": 4850,
          "culmen_depth_mm": 14.3,
          "culmen_length_mm": 46.8,
          "flipper_length_mm": 215,
          "island": "Biscoe",
          "sex": "FEMALE",
          "species": "Gentoo"
         },
         {
          "body_mass_g": 5750,
          "culmen_depth_mm": 15.7,
          "culmen_length_mm": 50.4,
          "flipper_length_mm": 222,
          "island": "Biscoe",
          "sex": "MALE",
          "species": "Gentoo"
         },
         {
          "body_mass_g": 5200,
          "culmen_depth_mm": 14.8,
          "culmen_length_mm": 45.2,
          "flipper_length_mm": 212,
          "island": "Biscoe",
          "sex": "FEMALE",
          "species": "Gentoo"
         },
         {
          "body_mass_g": 5400,
          "culmen_depth_mm": 16.1,
          "culmen_length_mm": 49.9,
          "flipper_length_mm": 213,
          "island": "Biscoe",
          "sex": "MALE",
          "species": "Gentoo"
         }
        ]
       },
       "encoding": {
        "color": {
         "field": "island",
         "type": "nominal"
        },
        "x": {
         "aggregate": "count",
         "type": "quantitative"
        },
        "y": {
         "field": "species",
         "sort": "-x",
         "title": "",
         "type": "nominal"
        }
       },
       "mark": "bar",
       "title": "Adelie is the most common penguin species"
      },
      "image/png": "[encoded data removed]",
      "text/plain": [
       "<VegaLite 4 object>\n",
       "\n",
       "If you see this message, it means the renderer has not been properly enabled\n",
       "for the frontend that you are using. For more information, see\n",
       "https://altair-viz.github.io/user_guide/troubleshooting.html\n"
      ]
     },
     "execution_count": 2,
     "metadata": {},
     "output_type": "execute_result"
    }
   ],
   "source": [
    "# Run this setup cell before starting, but don't modify any code here\n",
    "import altair as alt\n",
    "import pandas as pd\n",
    "# Display plots as interactive HTML locally and as static images on Gradescope\n",
    "alt.renderers.enable('mimetype')\n",
    "penguins = pd.read_csv('data/penguins.csv')\n",
    "#penguins\n",
    "\n",
    "bar_species_count = alt.Chart(penguins, title='Adelie is the most common penguin species').mark_bar().encode(\n",
    "    x=alt.X('count()'),\n",
    "    y=alt.Y('species', sort='-x',title=''),\n",
    "    color='island'\n",
    ")\n",
    "bar_species_count"
   ]
  },
  {
   "cell_type": "code",
   "execution_count": 7,
   "id": "921d3584-aa25-4032-aa2e-c93ece3652ff",
   "metadata": {},
   "outputs": [
    {
     "name": "stdout",
     "output_type": "stream",
     "text": [
      "Dash is running on http://127.0.0.1:8050/\n",
      "\n",
      " * Serving Flask app '__main__' (lazy loading)\n",
      " * Environment: production\n",
      "\u001b[31m   WARNING: This is a development server. Do not use it in a production deployment.\u001b[0m\n",
      "\u001b[2m   Use a production WSGI server instead.\u001b[0m\n",
      " * Debug mode: off\n"
     ]
    },
    {
     "name": "stderr",
     "output_type": "stream",
     "text": [
      " * Running on http://127.0.0.1:8050/ (Press CTRL+C to quit)\n"
     ]
    }
   ],
   "source": [
    "from dash import Dash, html, dcc, Input, Output\n",
    "import altair as alt\n",
    "import pandas as pd\n",
    "\n",
    "# Read in global data\n",
    "#cars = data.cars()\n",
    "penguins = pd.read_csv('data/penguins.csv')\n",
    "\n",
    "\n",
    "# Setup app and layout/frontend\n",
    "app = Dash(__name__,  external_stylesheets=['https://codepen.io/chriddyp/pen/bWLwgP.css'])\n",
    "app.layout = html.Div([\n",
    "    html.Iframe(\n",
    "        id='scatter',\n",
    "        style={'border-width': '0', 'width': '100%', 'height': '400px'}),\n",
    "    dcc.Dropdown(\n",
    "        #id='xcol-widget',\n",
    "        id='island_dropdown',\n",
    "        #value='island',  # REQUIRED to show the plot on the first page load\n",
    "        #options=[{'label': col, 'value': col} for col in penguins.columns])])\n",
    "        options=[{'label': 'Island_Name', 'value': 'island'}])\n",
    "\n",
    "# Set up callbacks/backend\n",
    "@app.callback(\n",
    "    Output('scatter', 'srcDoc'),\n",
    "    Input('island_dropdown', 'value'))\n",
    "def plot_altair(island):\n",
    "    #chart = alt.Chart(cars).mark_point().encode(\n",
    "    #    x=xcol,\n",
    "    #    y='Displacement',\n",
    "    #    tooltip='Horsepower').interactive()\n",
    "    bar_chart = alt.Chart(penguins, title='Adelie is the most common penguin species').mark_bar().encode(\n",
    "        x=alt.X('count()'),\n",
    "        y=alt.Y('species', sort='-x',title=''),\n",
    "        color=island)\n",
    "    \n",
    "    return bar_chart.to_html()\n",
    "\n",
    "if __name__ == '__main__':\n",
    "    app.run_server(debug=True)"
   ]
  },
  {
   "cell_type": "code",
   "execution_count": null,
   "id": "fa5292fc-67be-49c5-94b5-9e9af081a012",
   "metadata": {},
   "outputs": [],
   "source": []
  }
 ],
 "metadata": {
  "kernelspec": {
   "display_name": "Python 3 (ipykernel)",
   "language": "python",
   "name": "python3"
  },
  "language_info": {
   "codemirror_mode": {
    "name": "ipython",
    "version": 3
   },
   "file_extension": ".py",
   "mimetype": "text/x-python",
   "name": "python",
   "nbconvert_exporter": "python",
   "pygments_lexer": "ipython3",
   "version": "3.9.5"
  }
 },
 "nbformat": 4,
 "nbformat_minor": 5
}
